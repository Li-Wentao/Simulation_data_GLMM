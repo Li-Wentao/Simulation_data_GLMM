{
 "cells": [
  {
   "cell_type": "code",
   "execution_count": 586,
   "metadata": {},
   "outputs": [],
   "source": [
    "import pandas as pd\n",
    "import numpy as np\n",
    "import glob\n",
    "import matplotlib.pyplot as plt\n",
    "import os\n",
    "from numpy.linalg import inv\n",
    "from scipy.stats import norm"
   ]
  },
  {
   "cell_type": "code",
   "execution_count": 472,
   "metadata": {},
   "outputs": [],
   "source": [
    "os.chdir('/Users/wli17/Documents/GLMM/Simulation_data_GLMM/')"
   ]
  },
  {
   "cell_type": "code",
   "execution_count": 473,
   "metadata": {},
   "outputs": [
    {
     "data": {
      "text/plain": [
       "'/Users/wli17/Documents/GLMM/Simulation_data_GLMM'"
      ]
     },
     "execution_count": 473,
     "metadata": {},
     "output_type": "execute_result"
    }
   ],
   "source": [
    "pwd"
   ]
  },
  {
   "cell_type": "code",
   "execution_count": 212,
   "metadata": {},
   "outputs": [],
   "source": [
    "LA_files_dirs = glob.glob('Result_LA/*.csv')\n",
    "GH_files_dirs = glob.glob('Result_GH/*.csv')\n",
    "R_files_dirs = glob.glob('Result_R/*.csv')"
   ]
  },
  {
   "cell_type": "code",
   "execution_count": 202,
   "metadata": {},
   "outputs": [],
   "source": [
    "# cols = ['Truth', 'Coef', 'Std.Err', 'z', 'P-value', '[0.025', '0.975]', 'RunTime']\n",
    "# for d in LA_files_dirs:\n",
    "#     pd.read_csv(d, index_col=0)[cols].to_csv(d, header = True)\n",
    "# for d in GH_files_dirs:\n",
    "#     pd.read_csv(d, index_col=0)[cols].to_csv(d, header = True)"
   ]
  },
  {
   "cell_type": "code",
   "execution_count": 213,
   "metadata": {},
   "outputs": [],
   "source": [
    "LA_result = []\n",
    "GH_result = []\n",
    "R_result = []\n",
    "for d in LA_files_dirs:\n",
    "    LA_result.append(d.split('/')[1])\n",
    "for d in GH_files_dirs:\n",
    "    GH_result.append(d.split('/')[1])\n",
    "for d in R_files_dirs:\n",
    "    R_result.append(d.split('/')[1])"
   ]
  },
  {
   "cell_type": "code",
   "execution_count": 214,
   "metadata": {},
   "outputs": [],
   "source": [
    "import fnmatch"
   ]
  },
  {
   "cell_type": "code",
   "execution_count": 215,
   "metadata": {},
   "outputs": [
    {
     "name": "stdout",
     "output_type": "stream",
     "text": [
      "0 ['5', '4', '6', '7', '3', '2', '1', '20', '19', '18', '15', '14', '16', '17', '13', '12', '10', '11', '9', '8']\n"
     ]
    }
   ],
   "source": [
    "filtered = fnmatch.filter(GH_result, 'Setting_4*')\n",
    "success = []\n",
    "s = [str(i+1) for i in range(20)]\n",
    "for l in filtered:\n",
    "    success.append(l[10:].split('.')[0])\n",
    "failed = set(s).difference(set(success))\n",
    "print(len(failed), success)"
   ]
  },
  {
   "cell_type": "code",
   "execution_count": 216,
   "metadata": {},
   "outputs": [],
   "source": [
    "df = (pd.read_csv('Result_R/' + LA_result[0], index_col=0) - pd.read_csv('Result_LA/' + LA_result[0], index_col=0))['Coef']"
   ]
  },
  {
   "cell_type": "code",
   "execution_count": 217,
   "metadata": {},
   "outputs": [
    {
     "data": {
      "text/html": [
       "<div>\n",
       "<style scoped>\n",
       "    .dataframe tbody tr th:only-of-type {\n",
       "        vertical-align: middle;\n",
       "    }\n",
       "\n",
       "    .dataframe tbody tr th {\n",
       "        vertical-align: top;\n",
       "    }\n",
       "\n",
       "    .dataframe thead th {\n",
       "        text-align: right;\n",
       "    }\n",
       "</style>\n",
       "<table border=\"1\" class=\"dataframe\">\n",
       "  <thead>\n",
       "    <tr style=\"text-align: right;\">\n",
       "      <th></th>\n",
       "      <th>Truth</th>\n",
       "      <th>Coef</th>\n",
       "      <th>Std.Err</th>\n",
       "      <th>z</th>\n",
       "      <th>P-value</th>\n",
       "      <th>[0.025</th>\n",
       "      <th>0.975]</th>\n",
       "      <th>RunTime</th>\n",
       "    </tr>\n",
       "  </thead>\n",
       "  <tbody>\n",
       "    <tr>\n",
       "      <th>X1</th>\n",
       "      <td>-1.50</td>\n",
       "      <td>-0.765598</td>\n",
       "      <td>0.049519</td>\n",
       "      <td>-15.460720</td>\n",
       "      <td>6.388061e-54</td>\n",
       "      <td>-0.862654</td>\n",
       "      <td>-0.668543</td>\n",
       "      <td>439.010293</td>\n",
       "    </tr>\n",
       "    <tr>\n",
       "      <th>X2</th>\n",
       "      <td>0.10</td>\n",
       "      <td>0.178023</td>\n",
       "      <td>0.107606</td>\n",
       "      <td>1.654407</td>\n",
       "      <td>9.804494e-02</td>\n",
       "      <td>-0.032880</td>\n",
       "      <td>0.388927</td>\n",
       "      <td>439.010293</td>\n",
       "    </tr>\n",
       "    <tr>\n",
       "      <th>X3</th>\n",
       "      <td>-0.50</td>\n",
       "      <td>-0.331093</td>\n",
       "      <td>0.070913</td>\n",
       "      <td>-4.669022</td>\n",
       "      <td>3.026363e-06</td>\n",
       "      <td>-0.470079</td>\n",
       "      <td>-0.192106</td>\n",
       "      <td>439.010293</td>\n",
       "    </tr>\n",
       "    <tr>\n",
       "      <th>X4</th>\n",
       "      <td>-0.30</td>\n",
       "      <td>-0.141549</td>\n",
       "      <td>0.063522</td>\n",
       "      <td>-2.228326</td>\n",
       "      <td>2.585878e-02</td>\n",
       "      <td>-0.266050</td>\n",
       "      <td>-0.017047</td>\n",
       "      <td>439.010293</td>\n",
       "    </tr>\n",
       "    <tr>\n",
       "      <th>X5</th>\n",
       "      <td>0.40</td>\n",
       "      <td>0.299571</td>\n",
       "      <td>0.063605</td>\n",
       "      <td>4.709892</td>\n",
       "      <td>2.478477e-06</td>\n",
       "      <td>0.174908</td>\n",
       "      <td>0.424234</td>\n",
       "      <td>439.010293</td>\n",
       "    </tr>\n",
       "    <tr>\n",
       "      <th>X6</th>\n",
       "      <td>-0.20</td>\n",
       "      <td>-0.159812</td>\n",
       "      <td>0.031647</td>\n",
       "      <td>-5.049817</td>\n",
       "      <td>4.422339e-07</td>\n",
       "      <td>-0.221839</td>\n",
       "      <td>-0.097785</td>\n",
       "      <td>439.010293</td>\n",
       "    </tr>\n",
       "    <tr>\n",
       "      <th>X7</th>\n",
       "      <td>-0.25</td>\n",
       "      <td>-0.191576</td>\n",
       "      <td>0.021062</td>\n",
       "      <td>-9.095891</td>\n",
       "      <td>9.381425e-20</td>\n",
       "      <td>-0.232856</td>\n",
       "      <td>-0.150295</td>\n",
       "      <td>439.010293</td>\n",
       "    </tr>\n",
       "    <tr>\n",
       "      <th>X8</th>\n",
       "      <td>0.35</td>\n",
       "      <td>0.087247</td>\n",
       "      <td>0.111558</td>\n",
       "      <td>0.782073</td>\n",
       "      <td>4.341718e-01</td>\n",
       "      <td>-0.131403</td>\n",
       "      <td>0.305896</td>\n",
       "      <td>439.010293</td>\n",
       "    </tr>\n",
       "    <tr>\n",
       "      <th>X9</th>\n",
       "      <td>-0.10</td>\n",
       "      <td>-0.124891</td>\n",
       "      <td>0.079713</td>\n",
       "      <td>-1.566765</td>\n",
       "      <td>1.171696e-01</td>\n",
       "      <td>-0.281125</td>\n",
       "      <td>0.031343</td>\n",
       "      <td>439.010293</td>\n",
       "    </tr>\n",
       "    <tr>\n",
       "      <th>X10</th>\n",
       "      <td>0.50</td>\n",
       "      <td>0.400339</td>\n",
       "      <td>0.054966</td>\n",
       "      <td>7.283376</td>\n",
       "      <td>3.255677e-13</td>\n",
       "      <td>0.292608</td>\n",
       "      <td>0.508071</td>\n",
       "      <td>439.010293</td>\n",
       "    </tr>\n",
       "  </tbody>\n",
       "</table>\n",
       "</div>"
      ],
      "text/plain": [
       "     Truth      Coef   Std.Err          z       P-value    [0.025    0.975]  \\\n",
       "X1   -1.50 -0.765598  0.049519 -15.460720  6.388061e-54 -0.862654 -0.668543   \n",
       "X2    0.10  0.178023  0.107606   1.654407  9.804494e-02 -0.032880  0.388927   \n",
       "X3   -0.50 -0.331093  0.070913  -4.669022  3.026363e-06 -0.470079 -0.192106   \n",
       "X4   -0.30 -0.141549  0.063522  -2.228326  2.585878e-02 -0.266050 -0.017047   \n",
       "X5    0.40  0.299571  0.063605   4.709892  2.478477e-06  0.174908  0.424234   \n",
       "X6   -0.20 -0.159812  0.031647  -5.049817  4.422339e-07 -0.221839 -0.097785   \n",
       "X7   -0.25 -0.191576  0.021062  -9.095891  9.381425e-20 -0.232856 -0.150295   \n",
       "X8    0.35  0.087247  0.111558   0.782073  4.341718e-01 -0.131403  0.305896   \n",
       "X9   -0.10 -0.124891  0.079713  -1.566765  1.171696e-01 -0.281125  0.031343   \n",
       "X10   0.50  0.400339  0.054966   7.283376  3.255677e-13  0.292608  0.508071   \n",
       "\n",
       "        RunTime  \n",
       "X1   439.010293  \n",
       "X2   439.010293  \n",
       "X3   439.010293  \n",
       "X4   439.010293  \n",
       "X5   439.010293  \n",
       "X6   439.010293  \n",
       "X7   439.010293  \n",
       "X8   439.010293  \n",
       "X9   439.010293  \n",
       "X10  439.010293  "
      ]
     },
     "execution_count": 217,
     "metadata": {},
     "output_type": "execute_result"
    }
   ],
   "source": [
    "pd.read_csv('Result_LA/' + LA_result[0], index_col=0)"
   ]
  },
  {
   "cell_type": "code",
   "execution_count": 553,
   "metadata": {},
   "outputs": [
    {
     "data": {
      "image/png": "[encoded data removed]",
      "text/plain": [
       "<Figure size 432x288 with 1 Axes>"
      ]
     },
     "metadata": {},
     "output_type": "display_data"
    }
   ],
   "source": [
    "R_coef = pd.DataFrame()\n",
    "for f in R_result:\n",
    "    df = pd.read_csv('Result_R/' + f, index_col=0)['Coef'] - [-1.5,0.1,-0.5,-0.3,0.4,-0.2,-0.25,0.35,-0.1,0.5]\n",
    "    R_coef = pd.concat([R_coef, df], axis = 1)\n",
    "R_coef = R_coef.dropna(axis = 1)\n",
    "plt.ylim(-2, 2)\n",
    "box = plt.boxplot(R_coef.T)\n",
    "plt.xlabel('X')\n",
    "plt.ylabel('Difference from truth')\n",
    "plt.show()"
   ]
  },
  {
   "cell_type": "code",
   "execution_count": 542,
   "metadata": {},
   "outputs": [
    {
     "data": {
      "text/html": [
       "<div>\n",
       "<style scoped>\n",
       "    .dataframe tbody tr th:only-of-type {\n",
       "        vertical-align: middle;\n",
       "    }\n",
       "\n",
       "    .dataframe tbody tr th {\n",
       "        vertical-align: top;\n",
       "    }\n",
       "\n",
       "    .dataframe thead th {\n",
       "        text-align: right;\n",
       "    }\n",
       "</style>\n",
       "<table border=\"1\" class=\"dataframe\">\n",
       "  <thead>\n",
       "    <tr style=\"text-align: right;\">\n",
       "      <th></th>\n",
       "      <th>Coef</th>\n",
       "      <th>Coef</th>\n",
       "      <th>Coef</th>\n",
       "      <th>Coef</th>\n",
       "      <th>Coef</th>\n",
       "      <th>Coef</th>\n",
       "      <th>Coef</th>\n",
       "      <th>Coef</th>\n",
       "      <th>Coef</th>\n",
       "      <th>Coef</th>\n",
       "      <th>...</th>\n",
       "      <th>Coef</th>\n",
       "      <th>Coef</th>\n",
       "      <th>Coef</th>\n",
       "      <th>Coef</th>\n",
       "      <th>Coef</th>\n",
       "      <th>Coef</th>\n",
       "      <th>Coef</th>\n",
       "      <th>Coef</th>\n",
       "      <th>Coef</th>\n",
       "      <th>Coef</th>\n",
       "    </tr>\n",
       "  </thead>\n",
       "  <tbody>\n",
       "    <tr>\n",
       "      <th>X1</th>\n",
       "      <td>-0.436835</td>\n",
       "      <td>0.161443</td>\n",
       "      <td>0.383940</td>\n",
       "      <td>-10.838159</td>\n",
       "      <td>2.133803</td>\n",
       "      <td>0.975496</td>\n",
       "      <td>-0.072163</td>\n",
       "      <td>0.036793</td>\n",
       "      <td>0.600062</td>\n",
       "      <td>0.373969</td>\n",
       "      <td>...</td>\n",
       "      <td>-0.762634</td>\n",
       "      <td>0.909023</td>\n",
       "      <td>0.334498</td>\n",
       "      <td>1.322241</td>\n",
       "      <td>0.390998</td>\n",
       "      <td>-0.877624</td>\n",
       "      <td>0.430387</td>\n",
       "      <td>1.272943</td>\n",
       "      <td>-0.274762</td>\n",
       "      <td>-0.402687</td>\n",
       "    </tr>\n",
       "    <tr>\n",
       "      <th>X2</th>\n",
       "      <td>0.148595</td>\n",
       "      <td>-0.206554</td>\n",
       "      <td>0.161145</td>\n",
       "      <td>22.238405</td>\n",
       "      <td>-0.134752</td>\n",
       "      <td>-0.020511</td>\n",
       "      <td>0.202458</td>\n",
       "      <td>0.027956</td>\n",
       "      <td>-0.654567</td>\n",
       "      <td>-0.084955</td>\n",
       "      <td>...</td>\n",
       "      <td>-0.925343</td>\n",
       "      <td>-0.765599</td>\n",
       "      <td>0.689911</td>\n",
       "      <td>-0.895897</td>\n",
       "      <td>0.025749</td>\n",
       "      <td>0.570175</td>\n",
       "      <td>-0.028241</td>\n",
       "      <td>-0.233954</td>\n",
       "      <td>0.691828</td>\n",
       "      <td>0.015613</td>\n",
       "    </tr>\n",
       "    <tr>\n",
       "      <th>X3</th>\n",
       "      <td>0.147577</td>\n",
       "      <td>-0.056662</td>\n",
       "      <td>-0.251600</td>\n",
       "      <td>11.452328</td>\n",
       "      <td>0.346025</td>\n",
       "      <td>0.189572</td>\n",
       "      <td>-0.304922</td>\n",
       "      <td>0.222696</td>\n",
       "      <td>0.293339</td>\n",
       "      <td>0.093378</td>\n",
       "      <td>...</td>\n",
       "      <td>0.629343</td>\n",
       "      <td>-1.403999</td>\n",
       "      <td>0.350832</td>\n",
       "      <td>-0.528373</td>\n",
       "      <td>0.031650</td>\n",
       "      <td>0.670168</td>\n",
       "      <td>-0.110305</td>\n",
       "      <td>0.328180</td>\n",
       "      <td>0.198835</td>\n",
       "      <td>0.075906</td>\n",
       "    </tr>\n",
       "    <tr>\n",
       "      <th>X4</th>\n",
       "      <td>0.178074</td>\n",
       "      <td>0.340865</td>\n",
       "      <td>-0.168936</td>\n",
       "      <td>-8.657347</td>\n",
       "      <td>0.013517</td>\n",
       "      <td>0.107730</td>\n",
       "      <td>-0.046579</td>\n",
       "      <td>0.064028</td>\n",
       "      <td>-0.533393</td>\n",
       "      <td>0.101325</td>\n",
       "      <td>...</td>\n",
       "      <td>-0.006766</td>\n",
       "      <td>-0.298854</td>\n",
       "      <td>0.144234</td>\n",
       "      <td>-0.344439</td>\n",
       "      <td>0.070185</td>\n",
       "      <td>0.676078</td>\n",
       "      <td>0.085267</td>\n",
       "      <td>0.038047</td>\n",
       "      <td>-0.099310</td>\n",
       "      <td>-0.015666</td>\n",
       "    </tr>\n",
       "    <tr>\n",
       "      <th>X5</th>\n",
       "      <td>-0.064908</td>\n",
       "      <td>0.344347</td>\n",
       "      <td>0.002514</td>\n",
       "      <td>-10.099718</td>\n",
       "      <td>-0.066918</td>\n",
       "      <td>-0.118506</td>\n",
       "      <td>0.423789</td>\n",
       "      <td>0.042410</td>\n",
       "      <td>0.026989</td>\n",
       "      <td>-0.034288</td>\n",
       "      <td>...</td>\n",
       "      <td>0.099998</td>\n",
       "      <td>-0.267371</td>\n",
       "      <td>0.141724</td>\n",
       "      <td>0.020321</td>\n",
       "      <td>0.021301</td>\n",
       "      <td>0.125494</td>\n",
       "      <td>-0.101969</td>\n",
       "      <td>-0.153664</td>\n",
       "      <td>-0.071429</td>\n",
       "      <td>-0.035455</td>\n",
       "    </tr>\n",
       "    <tr>\n",
       "      <th>X6</th>\n",
       "      <td>0.032775</td>\n",
       "      <td>0.072242</td>\n",
       "      <td>0.112123</td>\n",
       "      <td>-2.446656</td>\n",
       "      <td>0.009859</td>\n",
       "      <td>-0.038016</td>\n",
       "      <td>0.287876</td>\n",
       "      <td>-0.193481</td>\n",
       "      <td>-0.360633</td>\n",
       "      <td>0.100801</td>\n",
       "      <td>...</td>\n",
       "      <td>0.130602</td>\n",
       "      <td>0.202136</td>\n",
       "      <td>0.181861</td>\n",
       "      <td>0.159185</td>\n",
       "      <td>0.055284</td>\n",
       "      <td>0.264069</td>\n",
       "      <td>0.079424</td>\n",
       "      <td>0.032244</td>\n",
       "      <td>0.407408</td>\n",
       "      <td>0.011299</td>\n",
       "    </tr>\n",
       "    <tr>\n",
       "      <th>X7</th>\n",
       "      <td>0.051973</td>\n",
       "      <td>0.014361</td>\n",
       "      <td>0.079212</td>\n",
       "      <td>-2.810042</td>\n",
       "      <td>-0.004492</td>\n",
       "      <td>0.030089</td>\n",
       "      <td>-0.094024</td>\n",
       "      <td>-0.209214</td>\n",
       "      <td>-0.065874</td>\n",
       "      <td>0.045153</td>\n",
       "      <td>...</td>\n",
       "      <td>-0.102683</td>\n",
       "      <td>-0.015937</td>\n",
       "      <td>0.152079</td>\n",
       "      <td>0.132554</td>\n",
       "      <td>0.055635</td>\n",
       "      <td>0.103927</td>\n",
       "      <td>0.031938</td>\n",
       "      <td>-0.027620</td>\n",
       "      <td>-0.041092</td>\n",
       "      <td>0.081940</td>\n",
       "    </tr>\n",
       "    <tr>\n",
       "      <th>X8</th>\n",
       "      <td>-0.230681</td>\n",
       "      <td>-0.705173</td>\n",
       "      <td>0.339392</td>\n",
       "      <td>-3.638161</td>\n",
       "      <td>-0.319096</td>\n",
       "      <td>-0.078693</td>\n",
       "      <td>-0.008249</td>\n",
       "      <td>-0.742512</td>\n",
       "      <td>0.487275</td>\n",
       "      <td>-0.028516</td>\n",
       "      <td>...</td>\n",
       "      <td>-0.314976</td>\n",
       "      <td>-2.020548</td>\n",
       "      <td>0.006183</td>\n",
       "      <td>0.075974</td>\n",
       "      <td>0.219537</td>\n",
       "      <td>0.063886</td>\n",
       "      <td>-0.350626</td>\n",
       "      <td>-0.176004</td>\n",
       "      <td>0.097277</td>\n",
       "      <td>0.275511</td>\n",
       "    </tr>\n",
       "    <tr>\n",
       "      <th>X9</th>\n",
       "      <td>-0.045840</td>\n",
       "      <td>-0.197513</td>\n",
       "      <td>-0.486977</td>\n",
       "      <td>-3.848516</td>\n",
       "      <td>0.151733</td>\n",
       "      <td>-0.189406</td>\n",
       "      <td>-1.535460</td>\n",
       "      <td>-0.056366</td>\n",
       "      <td>-0.710659</td>\n",
       "      <td>-0.043160</td>\n",
       "      <td>...</td>\n",
       "      <td>-0.572437</td>\n",
       "      <td>0.325811</td>\n",
       "      <td>-0.058597</td>\n",
       "      <td>0.118005</td>\n",
       "      <td>-0.070745</td>\n",
       "      <td>-0.213739</td>\n",
       "      <td>-0.004580</td>\n",
       "      <td>-0.036134</td>\n",
       "      <td>0.060121</td>\n",
       "      <td>-0.008766</td>\n",
       "    </tr>\n",
       "    <tr>\n",
       "      <th>X10</th>\n",
       "      <td>-0.062577</td>\n",
       "      <td>-0.228074</td>\n",
       "      <td>-0.212066</td>\n",
       "      <td>-0.159454</td>\n",
       "      <td>-0.113218</td>\n",
       "      <td>0.037060</td>\n",
       "      <td>0.065432</td>\n",
       "      <td>0.066688</td>\n",
       "      <td>0.019850</td>\n",
       "      <td>-0.018421</td>\n",
       "      <td>...</td>\n",
       "      <td>0.147432</td>\n",
       "      <td>0.765722</td>\n",
       "      <td>-0.064669</td>\n",
       "      <td>-0.293383</td>\n",
       "      <td>-0.209416</td>\n",
       "      <td>0.480762</td>\n",
       "      <td>-0.282055</td>\n",
       "      <td>-0.142810</td>\n",
       "      <td>-0.393040</td>\n",
       "      <td>-0.171218</td>\n",
       "    </tr>\n",
       "  </tbody>\n",
       "</table>\n",
       "<p>10 rows × 148 columns</p>\n",
       "</div>"
      ],
      "text/plain": [
       "         Coef      Coef      Coef       Coef      Coef      Coef      Coef  \\\n",
       "X1  -0.436835  0.161443  0.383940 -10.838159  2.133803  0.975496 -0.072163   \n",
       "X2   0.148595 -0.206554  0.161145  22.238405 -0.134752 -0.020511  0.202458   \n",
       "X3   0.147577 -0.056662 -0.251600  11.452328  0.346025  0.189572 -0.304922   \n",
       "X4   0.178074  0.340865 -0.168936  -8.657347  0.013517  0.107730 -0.046579   \n",
       "X5  -0.064908  0.344347  0.002514 -10.099718 -0.066918 -0.118506  0.423789   \n",
       "X6   0.032775  0.072242  0.112123  -2.446656  0.009859 -0.038016  0.287876   \n",
       "X7   0.051973  0.014361  0.079212  -2.810042 -0.004492  0.030089 -0.094024   \n",
       "X8  -0.230681 -0.705173  0.339392  -3.638161 -0.319096 -0.078693 -0.008249   \n",
       "X9  -0.045840 -0.197513 -0.486977  -3.848516  0.151733 -0.189406 -1.535460   \n",
       "X10 -0.062577 -0.228074 -0.212066  -0.159454 -0.113218  0.037060  0.065432   \n",
       "\n",
       "         Coef      Coef      Coef  ...      Coef      Coef      Coef  \\\n",
       "X1   0.036793  0.600062  0.373969  ... -0.762634  0.909023  0.334498   \n",
       "X2   0.027956 -0.654567 -0.084955  ... -0.925343 -0.765599  0.689911   \n",
       "X3   0.222696  0.293339  0.093378  ...  0.629343 -1.403999  0.350832   \n",
       "X4   0.064028 -0.533393  0.101325  ... -0.006766 -0.298854  0.144234   \n",
       "X5   0.042410  0.026989 -0.034288  ...  0.099998 -0.267371  0.141724   \n",
       "X6  -0.193481 -0.360633  0.100801  ...  0.130602  0.202136  0.181861   \n",
       "X7  -0.209214 -0.065874  0.045153  ... -0.102683 -0.015937  0.152079   \n",
       "X8  -0.742512  0.487275 -0.028516  ... -0.314976 -2.020548  0.006183   \n",
       "X9  -0.056366 -0.710659 -0.043160  ... -0.572437  0.325811 -0.058597   \n",
       "X10  0.066688  0.019850 -0.018421  ...  0.147432  0.765722 -0.064669   \n",
       "\n",
       "         Coef      Coef      Coef      Coef      Coef      Coef      Coef  \n",
       "X1   1.322241  0.390998 -0.877624  0.430387  1.272943 -0.274762 -0.402687  \n",
       "X2  -0.895897  0.025749  0.570175 -0.028241 -0.233954  0.691828  0.015613  \n",
       "X3  -0.528373  0.031650  0.670168 -0.110305  0.328180  0.198835  0.075906  \n",
       "X4  -0.344439  0.070185  0.676078  0.085267  0.038047 -0.099310 -0.015666  \n",
       "X5   0.020321  0.021301  0.125494 -0.101969 -0.153664 -0.071429 -0.035455  \n",
       "X6   0.159185  0.055284  0.264069  0.079424  0.032244  0.407408  0.011299  \n",
       "X7   0.132554  0.055635  0.103927  0.031938 -0.027620 -0.041092  0.081940  \n",
       "X8   0.075974  0.219537  0.063886 -0.350626 -0.176004  0.097277  0.275511  \n",
       "X9   0.118005 -0.070745 -0.213739 -0.004580 -0.036134  0.060121 -0.008766  \n",
       "X10 -0.293383 -0.209416  0.480762 -0.282055 -0.142810 -0.393040 -0.171218  \n",
       "\n",
       "[10 rows x 148 columns]"
      ]
     },
     "execution_count": 542,
     "metadata": {},
     "output_type": "execute_result"
    }
   ],
   "source": [
    "R_coef"
   ]
  },
  {
   "cell_type": "code",
   "execution_count": 219,
   "metadata": {},
   "outputs": [
    {
     "data": {
      "image/png": "[encoded data removed]",
      "text/plain": [
       "<Figure size 432x288 with 1 Axes>"
      ]
     },
     "metadata": {
      "needs_background": "light"
     },
     "output_type": "display_data"
    }
   ],
   "source": [
    "R_coef = pd.DataFrame()\n",
    "for f in R_result:\n",
    "    df = pd.read_csv('Result_R/' + f, index_col=0)['P-value']\n",
    "    R_coef = pd.concat([R_coef, df], axis = 1)\n",
    "R_coef = R_coef.dropna(axis = 1)\n",
    "# plt.ylim(0, 1)\n",
    "box = plt.boxplot(R_coef.T)\n",
    "plt.xlabel('X')\n",
    "plt.ylabel('P-value')\n",
    "plt.show()"
   ]
  },
  {
   "cell_type": "markdown",
   "metadata": {},
   "source": [
    "# LA "
   ]
  },
  {
   "cell_type": "code",
   "execution_count": 554,
   "metadata": {
    "scrolled": true
   },
   "outputs": [
    {
     "data": {
      "image/png": "[encoded data removed]",
      "text/plain": [
       "<Figure size 432x288 with 1 Axes>"
      ]
     },
     "metadata": {},
     "output_type": "display_data"
    }
   ],
   "source": [
    "LA_coef = pd.DataFrame()\n",
    "for f in LA_result:\n",
    "    df = pd.read_csv('Result_LA/' + f, index_col=0)['Coef'] - [-1.5,0.1,-0.5,-0.3,0.4,-0.2,-0.25,0.35,-0.1,0.5]\n",
    "    LA_coef = pd.concat([LA_coef, df], axis = 1)\n",
    "LA_coef = LA_coef.dropna(axis = 1)\n",
    "plt.ylim(-2, 2)\n",
    "box = plt.boxplot(LA_coef.T)\n",
    "plt.xlabel('X')\n",
    "plt.ylabel('Difference from truth')\n",
    "plt.show()"
   ]
  },
  {
   "cell_type": "code",
   "execution_count": 221,
   "metadata": {},
   "outputs": [
    {
     "data": {
      "image/png": "[encoded data removed]",
      "text/plain": [
       "<Figure size 432x288 with 1 Axes>"
      ]
     },
     "metadata": {
      "needs_background": "light"
     },
     "output_type": "display_data"
    }
   ],
   "source": [
    "coef_dif = pd.DataFrame()\n",
    "for f in set(LA_result).intersection(set(R_result)):\n",
    "    df = (pd.read_csv('Result_R/' + f, index_col=0) - pd.read_csv('Result_LA/' + f, index_col=0))['Coef']\n",
    "    coef_dif = pd.concat([coef_dif, df], axis = 1)\n",
    "coef_dif = coef_dif.dropna(axis = 1)\n",
    "plt.ylim(-0.5, 0.5)\n",
    "plt.boxplot(coef_dif.T)\n",
    "plt.xlabel('X')\n",
    "plt.ylabel('Difference from Benchmark')\n",
    "plt.show()"
   ]
  },
  {
   "cell_type": "code",
   "execution_count": 222,
   "metadata": {},
   "outputs": [
    {
     "data": {
      "image/png": "[encoded data removed]",
      "text/plain": [
       "<Figure size 432x288 with 1 Axes>"
      ]
     },
     "metadata": {
      "needs_background": "light"
     },
     "output_type": "display_data"
    }
   ],
   "source": [
    "coef_dif = pd.DataFrame()\n",
    "for f in set(LA_result).intersection(set(R_result)):\n",
    "    df = (pd.read_csv('Result_R/' + f, index_col=0) - pd.read_csv('Result_LA/' + f, index_col=0))['P-value']\n",
    "    coef_dif = pd.concat([coef_dif, df], axis = 1)\n",
    "coef_dif = coef_dif.dropna(axis = 1)\n",
    "# plt.ylim(-0.5, 0.5)\n",
    "plt.boxplot(coef_dif.T)\n",
    "plt.xlabel('X')\n",
    "plt.ylabel('Difference of P-values')\n",
    "plt.show()"
   ]
  },
  {
   "cell_type": "markdown",
   "metadata": {},
   "source": [
    "# GH"
   ]
  },
  {
   "cell_type": "code",
   "execution_count": 555,
   "metadata": {
    "scrolled": true
   },
   "outputs": [
    {
     "data": {
      "image/png": "[encoded data removed]",
      "text/plain": [
       "<Figure size 432x288 with 1 Axes>"
      ]
     },
     "metadata": {},
     "output_type": "display_data"
    }
   ],
   "source": [
    "GH_coef = pd.DataFrame()\n",
    "for f in GH_result:\n",
    "    df = pd.read_csv('Result_GH/' + f, index_col=0)['Coef'] - [-1.5,0.1,-0.5,-0.3,0.4,-0.2,-0.25,0.35,-0.1,0.5]\n",
    "    GH_coef = pd.concat([GH_coef, df], axis = 1)\n",
    "GH_coef = GH_coef.dropna(axis = 1)\n",
    "plt.ylim(-2, 3)\n",
    "box = plt.boxplot(GH_coef.T)\n",
    "plt.xlabel('X')\n",
    "plt.ylabel('Difference from truth')\n",
    "plt.show()"
   ]
  },
  {
   "cell_type": "code",
   "execution_count": 493,
   "metadata": {},
   "outputs": [
    {
     "data": {
      "image/png": "[encoded data removed]",
      "text/plain": [
       "<Figure size 432x288 with 1 Axes>"
      ]
     },
     "metadata": {},
     "output_type": "display_data"
    }
   ],
   "source": [
    "coef_dif = pd.DataFrame()\n",
    "for f in set(GH_result).intersection(set(R_result)):\n",
    "    df = (pd.read_csv('Result_R/' + f, index_col=0) - pd.read_csv('Result_GH/' + f, index_col=0))['Coef']\n",
    "    coef_dif = pd.concat([coef_dif, df], axis = 1)\n",
    "coef_dif = coef_dif.dropna(axis = 1)\n",
    "plt.ylim(-3, 1)\n",
    "plt.boxplot(coef_dif.T)\n",
    "plt.xlabel('X')\n",
    "plt.ylabel('Difference from Benchmark')\n",
    "plt.show()"
   ]
  },
  {
   "cell_type": "code",
   "execution_count": 494,
   "metadata": {},
   "outputs": [
    {
     "data": {
      "image/png": "[encoded data removed]",
      "text/plain": [
       "<Figure size 432x288 with 1 Axes>"
      ]
     },
     "metadata": {},
     "output_type": "display_data"
    }
   ],
   "source": [
    "coef_dif = pd.DataFrame()\n",
    "for f in set(GH_result).intersection(set(R_result)):\n",
    "    df = (pd.read_csv('Result_R/' + f, index_col=0) - pd.read_csv('Result_GH/' + f, index_col=0))['P-value']\n",
    "    coef_dif = pd.concat([coef_dif, df], axis = 1)\n",
    "coef_dif = coef_dif.dropna(axis = 1)\n",
    "# plt.ylim(-3, 1)\n",
    "plt.boxplot(coef_dif.T)\n",
    "plt.xlabel('X')\n",
    "plt.ylabel('Difference of P-values')\n",
    "plt.show()"
   ]
  },
  {
   "cell_type": "code",
   "execution_count": 226,
   "metadata": {},
   "outputs": [
    {
     "data": {
      "text/html": [
       "<div>\n",
       "<style scoped>\n",
       "    .dataframe tbody tr th:only-of-type {\n",
       "        vertical-align: middle;\n",
       "    }\n",
       "\n",
       "    .dataframe tbody tr th {\n",
       "        vertical-align: top;\n",
       "    }\n",
       "\n",
       "    .dataframe thead th {\n",
       "        text-align: right;\n",
       "    }\n",
       "</style>\n",
       "<table border=\"1\" class=\"dataframe\">\n",
       "  <thead>\n",
       "    <tr style=\"text-align: right;\">\n",
       "      <th></th>\n",
       "      <th>P-value</th>\n",
       "      <th>P-value</th>\n",
       "      <th>P-value</th>\n",
       "      <th>P-value</th>\n",
       "      <th>P-value</th>\n",
       "      <th>P-value</th>\n",
       "      <th>P-value</th>\n",
       "      <th>P-value</th>\n",
       "      <th>P-value</th>\n",
       "      <th>P-value</th>\n",
       "      <th>...</th>\n",
       "      <th>P-value</th>\n",
       "      <th>P-value</th>\n",
       "      <th>P-value</th>\n",
       "      <th>P-value</th>\n",
       "      <th>P-value</th>\n",
       "      <th>P-value</th>\n",
       "      <th>P-value</th>\n",
       "      <th>P-value</th>\n",
       "      <th>P-value</th>\n",
       "      <th>P-value</th>\n",
       "    </tr>\n",
       "  </thead>\n",
       "  <tbody>\n",
       "    <tr>\n",
       "      <th>X1</th>\n",
       "      <td>-0.369688</td>\n",
       "      <td>-0.161182</td>\n",
       "      <td>1.628418e-04</td>\n",
       "      <td>-0.301929</td>\n",
       "      <td>-0.004773</td>\n",
       "      <td>-0.003353</td>\n",
       "      <td>-0.563530</td>\n",
       "      <td>-0.137247</td>\n",
       "      <td>0.041874</td>\n",
       "      <td>-0.081553</td>\n",
       "      <td>...</td>\n",
       "      <td>-0.055210</td>\n",
       "      <td>1.203709e-05</td>\n",
       "      <td>0.052979</td>\n",
       "      <td>-0.037282</td>\n",
       "      <td>-1.581425e-08</td>\n",
       "      <td>-0.000252</td>\n",
       "      <td>0.163784</td>\n",
       "      <td>-0.616448</td>\n",
       "      <td>-0.000004</td>\n",
       "      <td>-4.187614e-08</td>\n",
       "    </tr>\n",
       "    <tr>\n",
       "      <th>X2</th>\n",
       "      <td>0.124641</td>\n",
       "      <td>0.040399</td>\n",
       "      <td>5.357660e-01</td>\n",
       "      <td>0.007663</td>\n",
       "      <td>-0.634577</td>\n",
       "      <td>-0.175051</td>\n",
       "      <td>0.054647</td>\n",
       "      <td>0.061809</td>\n",
       "      <td>0.612806</td>\n",
       "      <td>-0.001150</td>\n",
       "      <td>...</td>\n",
       "      <td>0.031312</td>\n",
       "      <td>6.909942e-02</td>\n",
       "      <td>-0.760609</td>\n",
       "      <td>-0.783546</td>\n",
       "      <td>-2.474868e-01</td>\n",
       "      <td>-0.525769</td>\n",
       "      <td>0.006537</td>\n",
       "      <td>0.092548</td>\n",
       "      <td>-0.273227</td>\n",
       "      <td>2.526752e-02</td>\n",
       "    </tr>\n",
       "    <tr>\n",
       "      <th>X3</th>\n",
       "      <td>0.067918</td>\n",
       "      <td>0.001689</td>\n",
       "      <td>2.033471e-10</td>\n",
       "      <td>0.014967</td>\n",
       "      <td>0.038442</td>\n",
       "      <td>0.373970</td>\n",
       "      <td>-0.677306</td>\n",
       "      <td>0.066075</td>\n",
       "      <td>-0.210192</td>\n",
       "      <td>0.003523</td>\n",
       "      <td>...</td>\n",
       "      <td>0.010067</td>\n",
       "      <td>1.262366e-04</td>\n",
       "      <td>-0.162327</td>\n",
       "      <td>-0.749546</td>\n",
       "      <td>-6.417288e-02</td>\n",
       "      <td>-0.171451</td>\n",
       "      <td>0.002833</td>\n",
       "      <td>0.013354</td>\n",
       "      <td>-0.758486</td>\n",
       "      <td>1.244485e-04</td>\n",
       "    </tr>\n",
       "    <tr>\n",
       "      <th>X4</th>\n",
       "      <td>0.079349</td>\n",
       "      <td>0.072642</td>\n",
       "      <td>8.544240e-03</td>\n",
       "      <td>0.023187</td>\n",
       "      <td>0.292467</td>\n",
       "      <td>0.062925</td>\n",
       "      <td>-0.307747</td>\n",
       "      <td>0.019023</td>\n",
       "      <td>0.137217</td>\n",
       "      <td>0.000370</td>\n",
       "      <td>...</td>\n",
       "      <td>0.017307</td>\n",
       "      <td>1.370877e-01</td>\n",
       "      <td>0.364306</td>\n",
       "      <td>-0.298819</td>\n",
       "      <td>2.395414e-01</td>\n",
       "      <td>0.199416</td>\n",
       "      <td>0.001023</td>\n",
       "      <td>0.007258</td>\n",
       "      <td>0.208492</td>\n",
       "      <td>1.552168e-02</td>\n",
       "    </tr>\n",
       "    <tr>\n",
       "      <th>X5</th>\n",
       "      <td>0.001500</td>\n",
       "      <td>0.029626</td>\n",
       "      <td>7.964426e-06</td>\n",
       "      <td>0.063964</td>\n",
       "      <td>-0.297193</td>\n",
       "      <td>-0.219583</td>\n",
       "      <td>-0.268994</td>\n",
       "      <td>0.019590</td>\n",
       "      <td>0.104635</td>\n",
       "      <td>0.026949</td>\n",
       "      <td>...</td>\n",
       "      <td>0.001142</td>\n",
       "      <td>3.575209e-05</td>\n",
       "      <td>-0.308559</td>\n",
       "      <td>-0.636824</td>\n",
       "      <td>-1.478729e-01</td>\n",
       "      <td>0.126789</td>\n",
       "      <td>0.074103</td>\n",
       "      <td>0.010494</td>\n",
       "      <td>-0.387919</td>\n",
       "      <td>1.186359e-05</td>\n",
       "    </tr>\n",
       "    <tr>\n",
       "      <th>X6</th>\n",
       "      <td>0.172373</td>\n",
       "      <td>0.060158</td>\n",
       "      <td>1.946759e-06</td>\n",
       "      <td>0.009270</td>\n",
       "      <td>0.037029</td>\n",
       "      <td>0.063733</td>\n",
       "      <td>-0.427924</td>\n",
       "      <td>0.004535</td>\n",
       "      <td>0.533144</td>\n",
       "      <td>0.006912</td>\n",
       "      <td>...</td>\n",
       "      <td>0.000310</td>\n",
       "      <td>4.046757e-05</td>\n",
       "      <td>0.287768</td>\n",
       "      <td>-0.554533</td>\n",
       "      <td>9.435777e-03</td>\n",
       "      <td>0.037093</td>\n",
       "      <td>0.001185</td>\n",
       "      <td>0.002657</td>\n",
       "      <td>-0.008281</td>\n",
       "      <td>3.952358e-06</td>\n",
       "    </tr>\n",
       "    <tr>\n",
       "      <th>X7</th>\n",
       "      <td>0.003024</td>\n",
       "      <td>0.000044</td>\n",
       "      <td>1.649851e-21</td>\n",
       "      <td>0.000002</td>\n",
       "      <td>0.164283</td>\n",
       "      <td>0.001591</td>\n",
       "      <td>-0.545425</td>\n",
       "      <td>0.000415</td>\n",
       "      <td>0.084425</td>\n",
       "      <td>0.000040</td>\n",
       "      <td>...</td>\n",
       "      <td>0.000232</td>\n",
       "      <td>3.226101e-13</td>\n",
       "      <td>0.012830</td>\n",
       "      <td>-0.226840</td>\n",
       "      <td>2.885292e-02</td>\n",
       "      <td>0.043279</td>\n",
       "      <td>0.000643</td>\n",
       "      <td>0.000157</td>\n",
       "      <td>0.001553</td>\n",
       "      <td>8.727783e-08</td>\n",
       "    </tr>\n",
       "    <tr>\n",
       "      <th>X8</th>\n",
       "      <td>0.107530</td>\n",
       "      <td>0.000406</td>\n",
       "      <td>1.323494e-02</td>\n",
       "      <td>0.001883</td>\n",
       "      <td>-0.421501</td>\n",
       "      <td>-0.563565</td>\n",
       "      <td>-0.773437</td>\n",
       "      <td>0.005365</td>\n",
       "      <td>0.223063</td>\n",
       "      <td>0.022704</td>\n",
       "      <td>...</td>\n",
       "      <td>0.027447</td>\n",
       "      <td>-1.475067e-01</td>\n",
       "      <td>-0.548888</td>\n",
       "      <td>-0.988639</td>\n",
       "      <td>-5.335587e-01</td>\n",
       "      <td>-0.594850</td>\n",
       "      <td>0.059156</td>\n",
       "      <td>0.003158</td>\n",
       "      <td>-0.576435</td>\n",
       "      <td>2.722269e-01</td>\n",
       "    </tr>\n",
       "    <tr>\n",
       "      <th>X9</th>\n",
       "      <td>0.004167</td>\n",
       "      <td>0.074224</td>\n",
       "      <td>6.382762e-02</td>\n",
       "      <td>0.033858</td>\n",
       "      <td>-0.220812</td>\n",
       "      <td>-0.181437</td>\n",
       "      <td>-0.352112</td>\n",
       "      <td>0.028337</td>\n",
       "      <td>0.140446</td>\n",
       "      <td>0.029440</td>\n",
       "      <td>...</td>\n",
       "      <td>0.057900</td>\n",
       "      <td>1.566321e-01</td>\n",
       "      <td>-0.434795</td>\n",
       "      <td>-0.821982</td>\n",
       "      <td>-3.144399e-01</td>\n",
       "      <td>-0.181608</td>\n",
       "      <td>0.056248</td>\n",
       "      <td>0.018581</td>\n",
       "      <td>-0.473246</td>\n",
       "      <td>1.555511e-02</td>\n",
       "    </tr>\n",
       "    <tr>\n",
       "      <th>X10</th>\n",
       "      <td>0.000728</td>\n",
       "      <td>0.058157</td>\n",
       "      <td>4.237748e-13</td>\n",
       "      <td>0.015365</td>\n",
       "      <td>-0.267572</td>\n",
       "      <td>-0.161054</td>\n",
       "      <td>-0.738696</td>\n",
       "      <td>0.000160</td>\n",
       "      <td>0.305709</td>\n",
       "      <td>0.001183</td>\n",
       "      <td>...</td>\n",
       "      <td>0.000008</td>\n",
       "      <td>6.583714e-10</td>\n",
       "      <td>-0.242833</td>\n",
       "      <td>-0.897257</td>\n",
       "      <td>-1.746547e-01</td>\n",
       "      <td>-0.054947</td>\n",
       "      <td>0.000779</td>\n",
       "      <td>0.000470</td>\n",
       "      <td>-0.268934</td>\n",
       "      <td>1.742720e-11</td>\n",
       "    </tr>\n",
       "  </tbody>\n",
       "</table>\n",
       "<p>10 rows × 142 columns</p>\n",
       "</div>"
      ],
      "text/plain": [
       "      P-value   P-value       P-value   P-value   P-value   P-value   P-value  \\\n",
       "X1  -0.369688 -0.161182  1.628418e-04 -0.301929 -0.004773 -0.003353 -0.563530   \n",
       "X2   0.124641  0.040399  5.357660e-01  0.007663 -0.634577 -0.175051  0.054647   \n",
       "X3   0.067918  0.001689  2.033471e-10  0.014967  0.038442  0.373970 -0.677306   \n",
       "X4   0.079349  0.072642  8.544240e-03  0.023187  0.292467  0.062925 -0.307747   \n",
       "X5   0.001500  0.029626  7.964426e-06  0.063964 -0.297193 -0.219583 -0.268994   \n",
       "X6   0.172373  0.060158  1.946759e-06  0.009270  0.037029  0.063733 -0.427924   \n",
       "X7   0.003024  0.000044  1.649851e-21  0.000002  0.164283  0.001591 -0.545425   \n",
       "X8   0.107530  0.000406  1.323494e-02  0.001883 -0.421501 -0.563565 -0.773437   \n",
       "X9   0.004167  0.074224  6.382762e-02  0.033858 -0.220812 -0.181437 -0.352112   \n",
       "X10  0.000728  0.058157  4.237748e-13  0.015365 -0.267572 -0.161054 -0.738696   \n",
       "\n",
       "      P-value   P-value   P-value  ...   P-value       P-value   P-value  \\\n",
       "X1  -0.137247  0.041874 -0.081553  ... -0.055210  1.203709e-05  0.052979   \n",
       "X2   0.061809  0.612806 -0.001150  ...  0.031312  6.909942e-02 -0.760609   \n",
       "X3   0.066075 -0.210192  0.003523  ...  0.010067  1.262366e-04 -0.162327   \n",
       "X4   0.019023  0.137217  0.000370  ...  0.017307  1.370877e-01  0.364306   \n",
       "X5   0.019590  0.104635  0.026949  ...  0.001142  3.575209e-05 -0.308559   \n",
       "X6   0.004535  0.533144  0.006912  ...  0.000310  4.046757e-05  0.287768   \n",
       "X7   0.000415  0.084425  0.000040  ...  0.000232  3.226101e-13  0.012830   \n",
       "X8   0.005365  0.223063  0.022704  ...  0.027447 -1.475067e-01 -0.548888   \n",
       "X9   0.028337  0.140446  0.029440  ...  0.057900  1.566321e-01 -0.434795   \n",
       "X10  0.000160  0.305709  0.001183  ...  0.000008  6.583714e-10 -0.242833   \n",
       "\n",
       "      P-value       P-value   P-value   P-value   P-value   P-value  \\\n",
       "X1  -0.037282 -1.581425e-08 -0.000252  0.163784 -0.616448 -0.000004   \n",
       "X2  -0.783546 -2.474868e-01 -0.525769  0.006537  0.092548 -0.273227   \n",
       "X3  -0.749546 -6.417288e-02 -0.171451  0.002833  0.013354 -0.758486   \n",
       "X4  -0.298819  2.395414e-01  0.199416  0.001023  0.007258  0.208492   \n",
       "X5  -0.636824 -1.478729e-01  0.126789  0.074103  0.010494 -0.387919   \n",
       "X6  -0.554533  9.435777e-03  0.037093  0.001185  0.002657 -0.008281   \n",
       "X7  -0.226840  2.885292e-02  0.043279  0.000643  0.000157  0.001553   \n",
       "X8  -0.988639 -5.335587e-01 -0.594850  0.059156  0.003158 -0.576435   \n",
       "X9  -0.821982 -3.144399e-01 -0.181608  0.056248  0.018581 -0.473246   \n",
       "X10 -0.897257 -1.746547e-01 -0.054947  0.000779  0.000470 -0.268934   \n",
       "\n",
       "          P-value  \n",
       "X1  -4.187614e-08  \n",
       "X2   2.526752e-02  \n",
       "X3   1.244485e-04  \n",
       "X4   1.552168e-02  \n",
       "X5   1.186359e-05  \n",
       "X6   3.952358e-06  \n",
       "X7   8.727783e-08  \n",
       "X8   2.722269e-01  \n",
       "X9   1.555511e-02  \n",
       "X10  1.742720e-11  \n",
       "\n",
       "[10 rows x 142 columns]"
      ]
     },
     "execution_count": 226,
     "metadata": {},
     "output_type": "execute_result"
    }
   ],
   "source": [
    "coef_dif"
   ]
  },
  {
   "cell_type": "markdown",
   "metadata": {},
   "source": [
    "# Comparison of coefs"
   ]
  },
  {
   "cell_type": "code",
   "execution_count": 556,
   "metadata": {},
   "outputs": [],
   "source": [
    "R_coef = R_coef.T\n",
    "R_coef['method'] = 'Centralized'\n",
    "GH_coef = GH_coef.T\n",
    "GH_coef['method'] = 'GH'\n",
    "LA_coef = LA_coef.T\n",
    "LA_coef['method'] = 'LA'\n",
    "LA_GH_R_coef = pd.concat([LA_coef, GH_coef, R_coef], ignore_index=True)"
   ]
  },
  {
   "cell_type": "code",
   "execution_count": 557,
   "metadata": {},
   "outputs": [
    {
     "data": {
      "text/plain": [
       "<seaborn.axisgrid.FacetGrid at 0x7fdab3224dc0>"
      ]
     },
     "execution_count": 557,
     "metadata": {},
     "output_type": "execute_result"
    },
    {
     "data": {
      "image/png": "[encoded data removed]",
      "text/plain": [
       "<Figure size 691.2x288 with 3 Axes>"
      ]
     },
     "metadata": {},
     "output_type": "display_data"
    }
   ],
   "source": [
    "g = sns.catplot(col='method', data=LA_GH_R_coef, \n",
    "            kind=\"point\", height=4, aspect=0.8, \n",
    "            palette=\"Set2\", dodge=True, orient='h')\n",
    "g.set_axis_labels('difference from true coefficients', 'variables')"
   ]
  },
  {
   "cell_type": "markdown",
   "metadata": {},
   "source": [
    "# LA vs R"
   ]
  },
  {
   "cell_type": "code",
   "execution_count": 227,
   "metadata": {},
   "outputs": [],
   "source": [
    "thres = 0.05"
   ]
  },
  {
   "cell_type": "code",
   "execution_count": 228,
   "metadata": {},
   "outputs": [],
   "source": [
    "la_pvalues = pd.DataFrame()\n",
    "for f in set(LA_result).intersection(set(R_result)):\n",
    "    df = pd.read_csv('Result_LA/' + f, index_col=0)['P-value']\n",
    "    la_pvalues = pd.concat([la_pvalues, df], axis = 1)\n",
    "la_pvalues.columns = set(LA_result).intersection(set(R_result))\n",
    "la_pvalues = (la_pvalues <= thres)\n",
    "la_pvalues.replace(True, 1, inplace = True)\n",
    "la_pvalues.replace(False, 0, inplace = True)"
   ]
  },
  {
   "cell_type": "code",
   "execution_count": 229,
   "metadata": {},
   "outputs": [],
   "source": [
    "r_pvalues = pd.DataFrame()\n",
    "for f in set(LA_result).intersection(set(R_result)):\n",
    "    df = pd.read_csv('Result_R/' + f, index_col=0)['P-value']\n",
    "    r_pvalues = pd.concat([r_pvalues, df], axis = 1)\n",
    "r_pvalues.columns = set(LA_result).intersection(set(R_result))\n",
    "r_pvalues = (r_pvalues <= thres)\n",
    "r_pvalues.replace(True, 1, inplace = True)\n",
    "r_pvalues.replace(False, 0, inplace = True)"
   ]
  },
  {
   "cell_type": "markdown",
   "metadata": {},
   "source": [
    "### Precision Recall Accuracy"
   ]
  },
  {
   "cell_type": "code",
   "execution_count": 230,
   "metadata": {},
   "outputs": [],
   "source": [
    "tp = (la_pvalues * r_pvalues).sum(axis = 1)\n",
    "tn = (la_pvalues + r_pvalues == 0).sum(axis = 1)\n",
    "fp = (la_pvalues - r_pvalues == 1).sum(axis = 1)\n",
    "fn = (la_pvalues - r_pvalues == -1).sum(axis = 1)\n",
    "precision = tp / (tp + fp)\n",
    "recall = tp / (tp + fn)\n",
    "TNR = tn / (tn + fp)\n",
    "accuracy = (tp + tn) / (tp + tn + fp + fn)"
   ]
  },
  {
   "cell_type": "code",
   "execution_count": 231,
   "metadata": {},
   "outputs": [
    {
     "data": {
      "text/html": [
       "<div>\n",
       "<style scoped>\n",
       "    .dataframe tbody tr th:only-of-type {\n",
       "        vertical-align: middle;\n",
       "    }\n",
       "\n",
       "    .dataframe tbody tr th {\n",
       "        vertical-align: top;\n",
       "    }\n",
       "\n",
       "    .dataframe thead th {\n",
       "        text-align: right;\n",
       "    }\n",
       "</style>\n",
       "<table border=\"1\" class=\"dataframe\">\n",
       "  <thead>\n",
       "    <tr style=\"text-align: right;\">\n",
       "      <th></th>\n",
       "      <th>Precision</th>\n",
       "      <th>Recall</th>\n",
       "      <th>True negative rate</th>\n",
       "      <th>Accuracy</th>\n",
       "    </tr>\n",
       "  </thead>\n",
       "  <tbody>\n",
       "    <tr>\n",
       "      <th>X1</th>\n",
       "      <td>0.812500</td>\n",
       "      <td>0.858491</td>\n",
       "      <td>0.500000</td>\n",
       "      <td>0.756757</td>\n",
       "    </tr>\n",
       "    <tr>\n",
       "      <th>X2</th>\n",
       "      <td>0.900000</td>\n",
       "      <td>0.692308</td>\n",
       "      <td>0.992593</td>\n",
       "      <td>0.966216</td>\n",
       "    </tr>\n",
       "    <tr>\n",
       "      <th>X3</th>\n",
       "      <td>0.942029</td>\n",
       "      <td>0.890411</td>\n",
       "      <td>0.946667</td>\n",
       "      <td>0.918919</td>\n",
       "    </tr>\n",
       "    <tr>\n",
       "      <th>X4</th>\n",
       "      <td>0.898305</td>\n",
       "      <td>0.929825</td>\n",
       "      <td>0.934066</td>\n",
       "      <td>0.932432</td>\n",
       "    </tr>\n",
       "    <tr>\n",
       "      <th>X5</th>\n",
       "      <td>0.971014</td>\n",
       "      <td>0.905405</td>\n",
       "      <td>0.972973</td>\n",
       "      <td>0.939189</td>\n",
       "    </tr>\n",
       "    <tr>\n",
       "      <th>X6</th>\n",
       "      <td>0.971429</td>\n",
       "      <td>0.957746</td>\n",
       "      <td>0.974026</td>\n",
       "      <td>0.966216</td>\n",
       "    </tr>\n",
       "    <tr>\n",
       "      <th>X7</th>\n",
       "      <td>1.000000</td>\n",
       "      <td>0.962264</td>\n",
       "      <td>1.000000</td>\n",
       "      <td>0.972973</td>\n",
       "    </tr>\n",
       "    <tr>\n",
       "      <th>X8</th>\n",
       "      <td>0.944444</td>\n",
       "      <td>0.829268</td>\n",
       "      <td>0.981308</td>\n",
       "      <td>0.939189</td>\n",
       "    </tr>\n",
       "    <tr>\n",
       "      <th>X9</th>\n",
       "      <td>0.833333</td>\n",
       "      <td>0.750000</td>\n",
       "      <td>0.976562</td>\n",
       "      <td>0.945946</td>\n",
       "    </tr>\n",
       "    <tr>\n",
       "      <th>X10</th>\n",
       "      <td>1.000000</td>\n",
       "      <td>0.892473</td>\n",
       "      <td>1.000000</td>\n",
       "      <td>0.932432</td>\n",
       "    </tr>\n",
       "  </tbody>\n",
       "</table>\n",
       "</div>"
      ],
      "text/plain": [
       "     Precision    Recall  True negative rate  Accuracy\n",
       "X1    0.812500  0.858491            0.500000  0.756757\n",
       "X2    0.900000  0.692308            0.992593  0.966216\n",
       "X3    0.942029  0.890411            0.946667  0.918919\n",
       "X4    0.898305  0.929825            0.934066  0.932432\n",
       "X5    0.971014  0.905405            0.972973  0.939189\n",
       "X6    0.971429  0.957746            0.974026  0.966216\n",
       "X7    1.000000  0.962264            1.000000  0.972973\n",
       "X8    0.944444  0.829268            0.981308  0.939189\n",
       "X9    0.833333  0.750000            0.976562  0.945946\n",
       "X10   1.000000  0.892473            1.000000  0.932432"
      ]
     },
     "execution_count": 231,
     "metadata": {},
     "output_type": "execute_result"
    }
   ],
   "source": [
    "pd.DataFrame([precision, recall, TNR, accuracy], \n",
    "             index=['Precision', 'Recall', 'True negative rate', 'Accuracy']).T"
   ]
  },
  {
   "cell_type": "markdown",
   "metadata": {},
   "source": [
    "# GH vs R"
   ]
  },
  {
   "cell_type": "code",
   "execution_count": 237,
   "metadata": {},
   "outputs": [],
   "source": [
    "thres = 0.05"
   ]
  },
  {
   "cell_type": "code",
   "execution_count": 238,
   "metadata": {},
   "outputs": [],
   "source": [
    "gh_pvalues = pd.DataFrame()\n",
    "for f in set(GH_result).intersection(set(R_result)):\n",
    "    df = pd.read_csv('Result_GH/' + f, index_col=0)['P-value']\n",
    "    gh_pvalues = pd.concat([gh_pvalues, df], axis = 1)\n",
    "gh_pvalues.columns = set(GH_result).intersection(set(R_result))\n",
    "gh_pvalues = (gh_pvalues <= thres)\n",
    "gh_pvalues.replace(True, 1, inplace = True)\n",
    "gh_pvalues.replace(False, 0, inplace = True)"
   ]
  },
  {
   "cell_type": "code",
   "execution_count": 239,
   "metadata": {},
   "outputs": [],
   "source": [
    "r_pvalues = pd.DataFrame()\n",
    "for f in set(GH_result).intersection(set(R_result)):\n",
    "    df = pd.read_csv('Result_R/' + f, index_col=0)['P-value']\n",
    "    r_pvalues = pd.concat([r_pvalues, df], axis = 1)\n",
    "r_pvalues.columns = set(GH_result).intersection(set(R_result))\n",
    "r_pvalues = (r_pvalues <= thres)\n",
    "r_pvalues.replace(True, 1, inplace = True)\n",
    "r_pvalues.replace(False, 0, inplace = True)"
   ]
  },
  {
   "cell_type": "markdown",
   "metadata": {},
   "source": [
    "### Precision Recall Accuracy"
   ]
  },
  {
   "cell_type": "code",
   "execution_count": 240,
   "metadata": {},
   "outputs": [],
   "source": [
    "tp = (gh_pvalues * r_pvalues).sum(axis = 1)\n",
    "tn = (gh_pvalues + r_pvalues == 0).sum(axis = 1)\n",
    "fp = (gh_pvalues - r_pvalues == 1).sum(axis = 1)\n",
    "fn = (gh_pvalues - r_pvalues == -1).sum(axis = 1)\n",
    "precision = tp / (tp + fp)\n",
    "recall = tp / (tp + fn)\n",
    "TNR = tn / (tn + fp)\n",
    "accuracy = (tp + tn) / (tp + tn + fp + fn)"
   ]
  },
  {
   "cell_type": "code",
   "execution_count": 241,
   "metadata": {},
   "outputs": [
    {
     "data": {
      "text/html": [
       "<div>\n",
       "<style scoped>\n",
       "    .dataframe tbody tr th:only-of-type {\n",
       "        vertical-align: middle;\n",
       "    }\n",
       "\n",
       "    .dataframe tbody tr th {\n",
       "        vertical-align: top;\n",
       "    }\n",
       "\n",
       "    .dataframe thead th {\n",
       "        text-align: right;\n",
       "    }\n",
       "</style>\n",
       "<table border=\"1\" class=\"dataframe\">\n",
       "  <thead>\n",
       "    <tr style=\"text-align: right;\">\n",
       "      <th></th>\n",
       "      <th>Precision</th>\n",
       "      <th>Recall</th>\n",
       "      <th>True negative rate</th>\n",
       "      <th>Accuracy</th>\n",
       "    </tr>\n",
       "  </thead>\n",
       "  <tbody>\n",
       "    <tr>\n",
       "      <th>X1</th>\n",
       "      <td>0.900000</td>\n",
       "      <td>0.712871</td>\n",
       "      <td>0.804878</td>\n",
       "      <td>0.739437</td>\n",
       "    </tr>\n",
       "    <tr>\n",
       "      <th>X2</th>\n",
       "      <td>0.250000</td>\n",
       "      <td>0.750000</td>\n",
       "      <td>0.792308</td>\n",
       "      <td>0.788732</td>\n",
       "    </tr>\n",
       "    <tr>\n",
       "      <th>X3</th>\n",
       "      <td>0.890411</td>\n",
       "      <td>0.890411</td>\n",
       "      <td>0.884058</td>\n",
       "      <td>0.887324</td>\n",
       "    </tr>\n",
       "    <tr>\n",
       "      <th>X4</th>\n",
       "      <td>0.702703</td>\n",
       "      <td>0.928571</td>\n",
       "      <td>0.744186</td>\n",
       "      <td>0.816901</td>\n",
       "    </tr>\n",
       "    <tr>\n",
       "      <th>X5</th>\n",
       "      <td>0.893333</td>\n",
       "      <td>0.930556</td>\n",
       "      <td>0.885714</td>\n",
       "      <td>0.908451</td>\n",
       "    </tr>\n",
       "    <tr>\n",
       "      <th>X6</th>\n",
       "      <td>0.851852</td>\n",
       "      <td>0.985714</td>\n",
       "      <td>0.833333</td>\n",
       "      <td>0.908451</td>\n",
       "    </tr>\n",
       "    <tr>\n",
       "      <th>X7</th>\n",
       "      <td>0.913462</td>\n",
       "      <td>0.950000</td>\n",
       "      <td>0.785714</td>\n",
       "      <td>0.901408</td>\n",
       "    </tr>\n",
       "    <tr>\n",
       "      <th>X8</th>\n",
       "      <td>0.637931</td>\n",
       "      <td>0.902439</td>\n",
       "      <td>0.792079</td>\n",
       "      <td>0.823944</td>\n",
       "    </tr>\n",
       "    <tr>\n",
       "      <th>X9</th>\n",
       "      <td>0.320000</td>\n",
       "      <td>0.800000</td>\n",
       "      <td>0.721311</td>\n",
       "      <td>0.732394</td>\n",
       "    </tr>\n",
       "    <tr>\n",
       "      <th>X10</th>\n",
       "      <td>0.906977</td>\n",
       "      <td>0.866667</td>\n",
       "      <td>0.846154</td>\n",
       "      <td>0.859155</td>\n",
       "    </tr>\n",
       "  </tbody>\n",
       "</table>\n",
       "</div>"
      ],
      "text/plain": [
       "     Precision    Recall  True negative rate  Accuracy\n",
       "X1    0.900000  0.712871            0.804878  0.739437\n",
       "X2    0.250000  0.750000            0.792308  0.788732\n",
       "X3    0.890411  0.890411            0.884058  0.887324\n",
       "X4    0.702703  0.928571            0.744186  0.816901\n",
       "X5    0.893333  0.930556            0.885714  0.908451\n",
       "X6    0.851852  0.985714            0.833333  0.908451\n",
       "X7    0.913462  0.950000            0.785714  0.901408\n",
       "X8    0.637931  0.902439            0.792079  0.823944\n",
       "X9    0.320000  0.800000            0.721311  0.732394\n",
       "X10   0.906977  0.866667            0.846154  0.859155"
      ]
     },
     "execution_count": 241,
     "metadata": {},
     "output_type": "execute_result"
    }
   ],
   "source": [
    "pd.DataFrame([precision, recall, TNR, accuracy], \n",
    "             index=['Precision', 'Recall', 'True negative rate', 'Accuracy']).T"
   ]
  },
  {
   "cell_type": "code",
   "execution_count": 560,
   "metadata": {},
   "outputs": [
    {
     "data": {
      "text/plain": [
       "X1     72.0\n",
       "X2      9.0\n",
       "X3     65.0\n",
       "X4     52.0\n",
       "X5     67.0\n",
       "X6     69.0\n",
       "X7     95.0\n",
       "X8     37.0\n",
       "X9     16.0\n",
       "X10    78.0\n",
       "dtype: float64"
      ]
     },
     "execution_count": 560,
     "metadata": {},
     "output_type": "execute_result"
    }
   ],
   "source": [
    "tp"
   ]
  },
  {
   "cell_type": "code",
   "execution_count": 194,
   "metadata": {},
   "outputs": [
    {
     "data": {
      "text/html": [
       "<div>\n",
       "<style scoped>\n",
       "    .dataframe tbody tr th:only-of-type {\n",
       "        vertical-align: middle;\n",
       "    }\n",
       "\n",
       "    .dataframe tbody tr th {\n",
       "        vertical-align: top;\n",
       "    }\n",
       "\n",
       "    .dataframe thead th {\n",
       "        text-align: right;\n",
       "    }\n",
       "</style>\n",
       "<table border=\"1\" class=\"dataframe\">\n",
       "  <thead>\n",
       "    <tr style=\"text-align: right;\">\n",
       "      <th></th>\n",
       "      <th>Setting_2_14.csv</th>\n",
       "      <th>Setting_2_12.csv</th>\n",
       "      <th>Setting_4_6.csv</th>\n",
       "      <th>Setting_2_6.csv</th>\n",
       "      <th>Setting_8_6.csv</th>\n",
       "      <th>Setting_7_16.csv</th>\n",
       "      <th>Setting_5_6.csv</th>\n",
       "      <th>Setting_2_16.csv</th>\n",
       "      <th>Setting_8_8.csv</th>\n",
       "      <th>Setting_1_4.csv</th>\n",
       "      <th>...</th>\n",
       "      <th>Setting_1_2.csv</th>\n",
       "      <th>Setting_4_5.csv</th>\n",
       "      <th>Setting_8_12.csv</th>\n",
       "      <th>Setting_5_12.csv</th>\n",
       "      <th>Setting_7_15.csv</th>\n",
       "      <th>Setting_8_10.csv</th>\n",
       "      <th>Setting_1_17.csv</th>\n",
       "      <th>Setting_1_16.csv</th>\n",
       "      <th>Setting_7_14.csv</th>\n",
       "      <th>Setting_3_3.csv</th>\n",
       "    </tr>\n",
       "  </thead>\n",
       "  <tbody>\n",
       "    <tr>\n",
       "      <th>X1</th>\n",
       "      <td>1.0</td>\n",
       "      <td>1.0</td>\n",
       "      <td>1.0</td>\n",
       "      <td>1.0</td>\n",
       "      <td>1.0</td>\n",
       "      <td>1.0</td>\n",
       "      <td>0.0</td>\n",
       "      <td>0.0</td>\n",
       "      <td>1.0</td>\n",
       "      <td>0.0</td>\n",
       "      <td>...</td>\n",
       "      <td>1.0</td>\n",
       "      <td>1.0</td>\n",
       "      <td>0.0</td>\n",
       "      <td>1.0</td>\n",
       "      <td>1.0</td>\n",
       "      <td>1.0</td>\n",
       "      <td>0.0</td>\n",
       "      <td>0.0</td>\n",
       "      <td>1.0</td>\n",
       "      <td>1.0</td>\n",
       "    </tr>\n",
       "    <tr>\n",
       "      <th>X2</th>\n",
       "      <td>0.0</td>\n",
       "      <td>0.0</td>\n",
       "      <td>0.0</td>\n",
       "      <td>1.0</td>\n",
       "      <td>0.0</td>\n",
       "      <td>0.0</td>\n",
       "      <td>0.0</td>\n",
       "      <td>0.0</td>\n",
       "      <td>0.0</td>\n",
       "      <td>0.0</td>\n",
       "      <td>...</td>\n",
       "      <td>0.0</td>\n",
       "      <td>0.0</td>\n",
       "      <td>0.0</td>\n",
       "      <td>1.0</td>\n",
       "      <td>0.0</td>\n",
       "      <td>0.0</td>\n",
       "      <td>0.0</td>\n",
       "      <td>0.0</td>\n",
       "      <td>0.0</td>\n",
       "      <td>1.0</td>\n",
       "    </tr>\n",
       "    <tr>\n",
       "      <th>X3</th>\n",
       "      <td>0.0</td>\n",
       "      <td>1.0</td>\n",
       "      <td>1.0</td>\n",
       "      <td>1.0</td>\n",
       "      <td>0.0</td>\n",
       "      <td>0.0</td>\n",
       "      <td>0.0</td>\n",
       "      <td>0.0</td>\n",
       "      <td>1.0</td>\n",
       "      <td>1.0</td>\n",
       "      <td>...</td>\n",
       "      <td>1.0</td>\n",
       "      <td>1.0</td>\n",
       "      <td>0.0</td>\n",
       "      <td>1.0</td>\n",
       "      <td>1.0</td>\n",
       "      <td>0.0</td>\n",
       "      <td>1.0</td>\n",
       "      <td>1.0</td>\n",
       "      <td>0.0</td>\n",
       "      <td>1.0</td>\n",
       "    </tr>\n",
       "    <tr>\n",
       "      <th>X4</th>\n",
       "      <td>0.0</td>\n",
       "      <td>0.0</td>\n",
       "      <td>1.0</td>\n",
       "      <td>1.0</td>\n",
       "      <td>0.0</td>\n",
       "      <td>0.0</td>\n",
       "      <td>0.0</td>\n",
       "      <td>1.0</td>\n",
       "      <td>0.0</td>\n",
       "      <td>1.0</td>\n",
       "      <td>...</td>\n",
       "      <td>1.0</td>\n",
       "      <td>0.0</td>\n",
       "      <td>0.0</td>\n",
       "      <td>1.0</td>\n",
       "      <td>0.0</td>\n",
       "      <td>0.0</td>\n",
       "      <td>1.0</td>\n",
       "      <td>1.0</td>\n",
       "      <td>0.0</td>\n",
       "      <td>1.0</td>\n",
       "    </tr>\n",
       "    <tr>\n",
       "      <th>X5</th>\n",
       "      <td>1.0</td>\n",
       "      <td>1.0</td>\n",
       "      <td>1.0</td>\n",
       "      <td>0.0</td>\n",
       "      <td>0.0</td>\n",
       "      <td>0.0</td>\n",
       "      <td>0.0</td>\n",
       "      <td>1.0</td>\n",
       "      <td>0.0</td>\n",
       "      <td>0.0</td>\n",
       "      <td>...</td>\n",
       "      <td>1.0</td>\n",
       "      <td>1.0</td>\n",
       "      <td>0.0</td>\n",
       "      <td>1.0</td>\n",
       "      <td>0.0</td>\n",
       "      <td>0.0</td>\n",
       "      <td>0.0</td>\n",
       "      <td>1.0</td>\n",
       "      <td>1.0</td>\n",
       "      <td>1.0</td>\n",
       "    </tr>\n",
       "    <tr>\n",
       "      <th>X6</th>\n",
       "      <td>0.0</td>\n",
       "      <td>0.0</td>\n",
       "      <td>1.0</td>\n",
       "      <td>1.0</td>\n",
       "      <td>0.0</td>\n",
       "      <td>0.0</td>\n",
       "      <td>0.0</td>\n",
       "      <td>1.0</td>\n",
       "      <td>0.0</td>\n",
       "      <td>1.0</td>\n",
       "      <td>...</td>\n",
       "      <td>1.0</td>\n",
       "      <td>1.0</td>\n",
       "      <td>0.0</td>\n",
       "      <td>1.0</td>\n",
       "      <td>0.0</td>\n",
       "      <td>0.0</td>\n",
       "      <td>1.0</td>\n",
       "      <td>1.0</td>\n",
       "      <td>0.0</td>\n",
       "      <td>1.0</td>\n",
       "    </tr>\n",
       "    <tr>\n",
       "      <th>X7</th>\n",
       "      <td>1.0</td>\n",
       "      <td>1.0</td>\n",
       "      <td>1.0</td>\n",
       "      <td>1.0</td>\n",
       "      <td>0.0</td>\n",
       "      <td>1.0</td>\n",
       "      <td>0.0</td>\n",
       "      <td>1.0</td>\n",
       "      <td>0.0</td>\n",
       "      <td>1.0</td>\n",
       "      <td>...</td>\n",
       "      <td>1.0</td>\n",
       "      <td>1.0</td>\n",
       "      <td>1.0</td>\n",
       "      <td>1.0</td>\n",
       "      <td>0.0</td>\n",
       "      <td>1.0</td>\n",
       "      <td>1.0</td>\n",
       "      <td>1.0</td>\n",
       "      <td>1.0</td>\n",
       "      <td>1.0</td>\n",
       "    </tr>\n",
       "    <tr>\n",
       "      <th>X8</th>\n",
       "      <td>0.0</td>\n",
       "      <td>0.0</td>\n",
       "      <td>1.0</td>\n",
       "      <td>1.0</td>\n",
       "      <td>0.0</td>\n",
       "      <td>0.0</td>\n",
       "      <td>0.0</td>\n",
       "      <td>1.0</td>\n",
       "      <td>0.0</td>\n",
       "      <td>0.0</td>\n",
       "      <td>...</td>\n",
       "      <td>0.0</td>\n",
       "      <td>0.0</td>\n",
       "      <td>0.0</td>\n",
       "      <td>1.0</td>\n",
       "      <td>0.0</td>\n",
       "      <td>1.0</td>\n",
       "      <td>0.0</td>\n",
       "      <td>1.0</td>\n",
       "      <td>0.0</td>\n",
       "      <td>0.0</td>\n",
       "    </tr>\n",
       "    <tr>\n",
       "      <th>X9</th>\n",
       "      <td>1.0</td>\n",
       "      <td>0.0</td>\n",
       "      <td>0.0</td>\n",
       "      <td>0.0</td>\n",
       "      <td>0.0</td>\n",
       "      <td>0.0</td>\n",
       "      <td>0.0</td>\n",
       "      <td>1.0</td>\n",
       "      <td>0.0</td>\n",
       "      <td>0.0</td>\n",
       "      <td>...</td>\n",
       "      <td>0.0</td>\n",
       "      <td>0.0</td>\n",
       "      <td>0.0</td>\n",
       "      <td>1.0</td>\n",
       "      <td>0.0</td>\n",
       "      <td>0.0</td>\n",
       "      <td>0.0</td>\n",
       "      <td>1.0</td>\n",
       "      <td>0.0</td>\n",
       "      <td>1.0</td>\n",
       "    </tr>\n",
       "    <tr>\n",
       "      <th>X10</th>\n",
       "      <td>1.0</td>\n",
       "      <td>0.0</td>\n",
       "      <td>1.0</td>\n",
       "      <td>1.0</td>\n",
       "      <td>0.0</td>\n",
       "      <td>0.0</td>\n",
       "      <td>1.0</td>\n",
       "      <td>1.0</td>\n",
       "      <td>0.0</td>\n",
       "      <td>1.0</td>\n",
       "      <td>...</td>\n",
       "      <td>1.0</td>\n",
       "      <td>1.0</td>\n",
       "      <td>0.0</td>\n",
       "      <td>1.0</td>\n",
       "      <td>0.0</td>\n",
       "      <td>1.0</td>\n",
       "      <td>1.0</td>\n",
       "      <td>1.0</td>\n",
       "      <td>1.0</td>\n",
       "      <td>1.0</td>\n",
       "    </tr>\n",
       "  </tbody>\n",
       "</table>\n",
       "<p>10 rows × 142 columns</p>\n",
       "</div>"
      ],
      "text/plain": [
       "     Setting_2_14.csv  Setting_2_12.csv  Setting_4_6.csv  Setting_2_6.csv  \\\n",
       "X1                1.0               1.0              1.0              1.0   \n",
       "X2                0.0               0.0              0.0              1.0   \n",
       "X3                0.0               1.0              1.0              1.0   \n",
       "X4                0.0               0.0              1.0              1.0   \n",
       "X5                1.0               1.0              1.0              0.0   \n",
       "X6                0.0               0.0              1.0              1.0   \n",
       "X7                1.0               1.0              1.0              1.0   \n",
       "X8                0.0               0.0              1.0              1.0   \n",
       "X9                1.0               0.0              0.0              0.0   \n",
       "X10               1.0               0.0              1.0              1.0   \n",
       "\n",
       "     Setting_8_6.csv  Setting_7_16.csv  Setting_5_6.csv  Setting_2_16.csv  \\\n",
       "X1               1.0               1.0              0.0               0.0   \n",
       "X2               0.0               0.0              0.0               0.0   \n",
       "X3               0.0               0.0              0.0               0.0   \n",
       "X4               0.0               0.0              0.0               1.0   \n",
       "X5               0.0               0.0              0.0               1.0   \n",
       "X6               0.0               0.0              0.0               1.0   \n",
       "X7               0.0               1.0              0.0               1.0   \n",
       "X8               0.0               0.0              0.0               1.0   \n",
       "X9               0.0               0.0              0.0               1.0   \n",
       "X10              0.0               0.0              1.0               1.0   \n",
       "\n",
       "     Setting_8_8.csv  Setting_1_4.csv  ...  Setting_1_2.csv  Setting_4_5.csv  \\\n",
       "X1               1.0              0.0  ...              1.0              1.0   \n",
       "X2               0.0              0.0  ...              0.0              0.0   \n",
       "X3               1.0              1.0  ...              1.0              1.0   \n",
       "X4               0.0              1.0  ...              1.0              0.0   \n",
       "X5               0.0              0.0  ...              1.0              1.0   \n",
       "X6               0.0              1.0  ...              1.0              1.0   \n",
       "X7               0.0              1.0  ...              1.0              1.0   \n",
       "X8               0.0              0.0  ...              0.0              0.0   \n",
       "X9               0.0              0.0  ...              0.0              0.0   \n",
       "X10              0.0              1.0  ...              1.0              1.0   \n",
       "\n",
       "     Setting_8_12.csv  Setting_5_12.csv  Setting_7_15.csv  Setting_8_10.csv  \\\n",
       "X1                0.0               1.0               1.0               1.0   \n",
       "X2                0.0               1.0               0.0               0.0   \n",
       "X3                0.0               1.0               1.0               0.0   \n",
       "X4                0.0               1.0               0.0               0.0   \n",
       "X5                0.0               1.0               0.0               0.0   \n",
       "X6                0.0               1.0               0.0               0.0   \n",
       "X7                1.0               1.0               0.0               1.0   \n",
       "X8                0.0               1.0               0.0               1.0   \n",
       "X9                0.0               1.0               0.0               0.0   \n",
       "X10               0.0               1.0               0.0               1.0   \n",
       "\n",
       "     Setting_1_17.csv  Setting_1_16.csv  Setting_7_14.csv  Setting_3_3.csv  \n",
       "X1                0.0               0.0               1.0              1.0  \n",
       "X2                0.0               0.0               0.0              1.0  \n",
       "X3                1.0               1.0               0.0              1.0  \n",
       "X4                1.0               1.0               0.0              1.0  \n",
       "X5                0.0               1.0               1.0              1.0  \n",
       "X6                1.0               1.0               0.0              1.0  \n",
       "X7                1.0               1.0               1.0              1.0  \n",
       "X8                0.0               1.0               0.0              0.0  \n",
       "X9                0.0               1.0               0.0              1.0  \n",
       "X10               1.0               1.0               1.0              1.0  \n",
       "\n",
       "[10 rows x 142 columns]"
      ]
     },
     "execution_count": 194,
     "metadata": {},
     "output_type": "execute_result"
    }
   ],
   "source": [
    "r_pvalues"
   ]
  },
  {
   "cell_type": "code",
   "execution_count": null,
   "metadata": {},
   "outputs": [],
   "source": []
  },
  {
   "cell_type": "markdown",
   "metadata": {},
   "source": [
    "# Synthetic data description"
   ]
  },
  {
   "cell_type": "code",
   "execution_count": 271,
   "metadata": {},
   "outputs": [],
   "source": [
    "import seaborn as sns"
   ]
  },
  {
   "cell_type": "code",
   "execution_count": 474,
   "metadata": {},
   "outputs": [],
   "source": [
    "cols = ['Site_ID', 'y']\n",
    "for i in range(10):\n",
    "    cols += ['X' + str(i+1)]"
   ]
  },
  {
   "cell_type": "code",
   "execution_count": null,
   "metadata": {},
   "outputs": [],
   "source": []
  },
  {
   "cell_type": "markdown",
   "metadata": {},
   "source": [
    "### Setting 1"
   ]
  },
  {
   "cell_type": "code",
   "execution_count": 475,
   "metadata": {},
   "outputs": [],
   "source": [
    "setting1_dir = glob.glob('Setting_1/*.csv')\n",
    "df = []\n",
    "for f in setting1_dir:\n",
    "    df += [pd.read_csv(f, index_col=0)[cols]]\n",
    "df1 = pd.concat(df, ignore_index=True)\n",
    "df1['Setting'] = '1'"
   ]
  },
  {
   "cell_type": "markdown",
   "metadata": {},
   "source": [
    "### Setting 2"
   ]
  },
  {
   "cell_type": "code",
   "execution_count": 476,
   "metadata": {},
   "outputs": [],
   "source": [
    "setting2_dir = glob.glob('Setting_2/*.csv')\n",
    "df = []\n",
    "for f in setting2_dir:\n",
    "    df += [pd.read_csv(f, index_col=0)[cols]]\n",
    "df2 = pd.concat(df, ignore_index=True)\n",
    "df2['Setting'] = '2'"
   ]
  },
  {
   "cell_type": "markdown",
   "metadata": {},
   "source": [
    "### Setting 3"
   ]
  },
  {
   "cell_type": "code",
   "execution_count": 477,
   "metadata": {},
   "outputs": [],
   "source": [
    "setting3_dir = glob.glob('Setting_3/*.csv')\n",
    "df = []\n",
    "for f in setting3_dir:\n",
    "    df += [pd.read_csv(f, index_col=0)[cols]]\n",
    "df3 = pd.concat(df, ignore_index=True)\n",
    "df3['Setting'] = '3'"
   ]
  },
  {
   "cell_type": "markdown",
   "metadata": {},
   "source": [
    "### Setting 4"
   ]
  },
  {
   "cell_type": "code",
   "execution_count": 478,
   "metadata": {},
   "outputs": [],
   "source": [
    "setting4_dir = glob.glob('Setting_4/*.csv')\n",
    "df = []\n",
    "for f in setting4_dir:\n",
    "    df += [pd.read_csv(f, index_col=0)[cols]]\n",
    "df4 = pd.concat(df, ignore_index=True)\n",
    "df4['Setting'] = '4'"
   ]
  },
  {
   "cell_type": "markdown",
   "metadata": {},
   "source": [
    "### Setting 5"
   ]
  },
  {
   "cell_type": "code",
   "execution_count": 479,
   "metadata": {},
   "outputs": [],
   "source": [
    "setting5_dir = glob.glob('Setting_5/*.csv')\n",
    "df = []\n",
    "for f in setting5_dir:\n",
    "    df += [pd.read_csv(f, index_col=0)[cols]]\n",
    "df5 = pd.concat(df, ignore_index=True)\n",
    "df5['Setting'] = '5'"
   ]
  },
  {
   "cell_type": "markdown",
   "metadata": {},
   "source": [
    "### Setting 6"
   ]
  },
  {
   "cell_type": "code",
   "execution_count": 480,
   "metadata": {},
   "outputs": [],
   "source": [
    "setting6_dir = glob.glob('Setting_6/*.csv')\n",
    "df = []\n",
    "for f in setting6_dir:\n",
    "    df += [pd.read_csv(f, index_col=0)[cols]]\n",
    "df6 = pd.concat(df, ignore_index=True)\n",
    "df6['Setting'] = '6'"
   ]
  },
  {
   "cell_type": "markdown",
   "metadata": {},
   "source": [
    "### Setting 7"
   ]
  },
  {
   "cell_type": "code",
   "execution_count": 481,
   "metadata": {},
   "outputs": [],
   "source": [
    "setting7_dir = glob.glob('Setting_7/*.csv')\n",
    "df = []\n",
    "for f in setting7_dir:\n",
    "    df += [pd.read_csv(f, index_col=0)[cols]]\n",
    "df7 = pd.concat(df, ignore_index=True)\n",
    "df7['Setting'] = '7'"
   ]
  },
  {
   "cell_type": "markdown",
   "metadata": {},
   "source": [
    "### Setting 8"
   ]
  },
  {
   "cell_type": "code",
   "execution_count": 482,
   "metadata": {},
   "outputs": [],
   "source": [
    "setting8_dir = glob.glob('Setting_8/*.csv')\n",
    "df = []\n",
    "for f in setting8_dir:\n",
    "    df += [pd.read_csv(f, index_col=0)[cols]]\n",
    "df8 = pd.concat(df, ignore_index=True)\n",
    "df8['Setting'] = '8'"
   ]
  },
  {
   "cell_type": "code",
   "execution_count": null,
   "metadata": {},
   "outputs": [],
   "source": []
  },
  {
   "cell_type": "code",
   "execution_count": 483,
   "metadata": {},
   "outputs": [],
   "source": [
    "df1.Site_ID = df1.Site_ID.astype('string')"
   ]
  },
  {
   "cell_type": "code",
   "execution_count": 484,
   "metadata": {},
   "outputs": [
    {
     "data": {
      "text/plain": [
       "StringDtype"
      ]
     },
     "execution_count": 484,
     "metadata": {},
     "output_type": "execute_result"
    }
   ],
   "source": [
    "df1.Site_ID.dtypes"
   ]
  },
  {
   "cell_type": "code",
   "execution_count": 485,
   "metadata": {},
   "outputs": [
    {
     "data": {
      "text/plain": [
       "<seaborn.axisgrid.FacetGrid at 0x7fdb5968b1c0>"
      ]
     },
     "execution_count": 485,
     "metadata": {},
     "output_type": "execute_result"
    },
    {
     "data": {
      "image/png": "[encoded data removed]",
      "text/plain": [
       "<Figure size 460.8x288 with 2 Axes>"
      ]
     },
     "metadata": {},
     "output_type": "display_data"
    }
   ],
   "source": [
    "sns.catplot(col='Site_ID', data=df1, \n",
    "            kind=\"box\", height=4, aspect=0.8, \n",
    "            palette=\"Set2\", dodge=True, orient='v')"
   ]
  },
  {
   "cell_type": "code",
   "execution_count": 486,
   "metadata": {},
   "outputs": [
    {
     "data": {
      "text/plain": [
       "<seaborn.axisgrid.FacetGrid at 0x7fdb59f5a2b0>"
      ]
     },
     "execution_count": 486,
     "metadata": {},
     "output_type": "execute_result"
    },
    {
     "data": {
      "image/png": "[encoded data removed]",
      "text/plain": [
       "<Figure size 460.8x288 with 2 Axes>"
      ]
     },
     "metadata": {},
     "output_type": "display_data"
    }
   ],
   "source": [
    "sns.catplot(col='Site_ID', data=df2, \n",
    "            kind=\"boxen\", height=4, aspect=0.8, \n",
    "            palette=\"Set2\", dodge=True, orient='h')"
   ]
  },
  {
   "cell_type": "code",
   "execution_count": 487,
   "metadata": {},
   "outputs": [
    {
     "data": {
      "text/plain": [
       "<seaborn.axisgrid.FacetGrid at 0x7fdb59f5a8b0>"
      ]
     },
     "execution_count": 487,
     "metadata": {},
     "output_type": "execute_result"
    },
    {
     "data": {
      "image/png": "[encoded data removed]",
      "text/plain": [
       "<Figure size 2304x288 with 10 Axes>"
      ]
     },
     "metadata": {},
     "output_type": "display_data"
    }
   ],
   "source": [
    "sns.catplot(col='Site_ID', data=df3, \n",
    "            kind=\"boxen\", height=4, aspect=0.8, \n",
    "            palette=\"Set2\", dodge=True, orient='h')"
   ]
  },
  {
   "cell_type": "code",
   "execution_count": null,
   "metadata": {},
   "outputs": [],
   "source": []
  },
  {
   "cell_type": "code",
   "execution_count": null,
   "metadata": {},
   "outputs": [],
   "source": []
  },
  {
   "cell_type": "code",
   "execution_count": 488,
   "metadata": {},
   "outputs": [],
   "source": [
    "gigantic1 = pd.concat([df1, df2, df3, df4], ignore_index=True)\n",
    "gigantic2 = pd.concat([df5, df6, df7, df8], ignore_index=True)"
   ]
  },
  {
   "cell_type": "code",
   "execution_count": 489,
   "metadata": {},
   "outputs": [
    {
     "data": {
      "text/html": [
       "<div>\n",
       "<style scoped>\n",
       "    .dataframe tbody tr th:only-of-type {\n",
       "        vertical-align: middle;\n",
       "    }\n",
       "\n",
       "    .dataframe tbody tr th {\n",
       "        vertical-align: top;\n",
       "    }\n",
       "\n",
       "    .dataframe thead th {\n",
       "        text-align: right;\n",
       "    }\n",
       "</style>\n",
       "<table border=\"1\" class=\"dataframe\">\n",
       "  <thead>\n",
       "    <tr style=\"text-align: right;\">\n",
       "      <th></th>\n",
       "      <th>y</th>\n",
       "      <th>X1</th>\n",
       "      <th>X2</th>\n",
       "      <th>X3</th>\n",
       "      <th>X4</th>\n",
       "      <th>X5</th>\n",
       "      <th>X6</th>\n",
       "      <th>X7</th>\n",
       "      <th>X8</th>\n",
       "      <th>X9</th>\n",
       "      <th>X10</th>\n",
       "      <th>Setting</th>\n",
       "    </tr>\n",
       "  </thead>\n",
       "  <tbody>\n",
       "    <tr>\n",
       "      <th>0</th>\n",
       "      <td>1</td>\n",
       "      <td>1</td>\n",
       "      <td>0</td>\n",
       "      <td>1</td>\n",
       "      <td>0</td>\n",
       "      <td>0.274850</td>\n",
       "      <td>-1.214124</td>\n",
       "      <td>0.644812</td>\n",
       "      <td>0.315149</td>\n",
       "      <td>-0.268313</td>\n",
       "      <td>0.397791</td>\n",
       "      <td>1</td>\n",
       "    </tr>\n",
       "    <tr>\n",
       "      <th>1</th>\n",
       "      <td>0</td>\n",
       "      <td>1</td>\n",
       "      <td>0</td>\n",
       "      <td>0</td>\n",
       "      <td>1</td>\n",
       "      <td>-0.089062</td>\n",
       "      <td>-1.251882</td>\n",
       "      <td>-0.175425</td>\n",
       "      <td>-0.374029</td>\n",
       "      <td>-0.289716</td>\n",
       "      <td>-0.404913</td>\n",
       "      <td>1</td>\n",
       "    </tr>\n",
       "    <tr>\n",
       "      <th>2</th>\n",
       "      <td>0</td>\n",
       "      <td>1</td>\n",
       "      <td>0</td>\n",
       "      <td>0</td>\n",
       "      <td>1</td>\n",
       "      <td>-0.887237</td>\n",
       "      <td>0.159851</td>\n",
       "      <td>-0.780971</td>\n",
       "      <td>-0.182619</td>\n",
       "      <td>0.534424</td>\n",
       "      <td>0.967411</td>\n",
       "      <td>1</td>\n",
       "    </tr>\n",
       "    <tr>\n",
       "      <th>3</th>\n",
       "      <td>0</td>\n",
       "      <td>1</td>\n",
       "      <td>1</td>\n",
       "      <td>0</td>\n",
       "      <td>1</td>\n",
       "      <td>-0.320914</td>\n",
       "      <td>-0.470441</td>\n",
       "      <td>1.507025</td>\n",
       "      <td>-0.396095</td>\n",
       "      <td>-0.660405</td>\n",
       "      <td>0.657371</td>\n",
       "      <td>1</td>\n",
       "    </tr>\n",
       "    <tr>\n",
       "      <th>4</th>\n",
       "      <td>0</td>\n",
       "      <td>1</td>\n",
       "      <td>0</td>\n",
       "      <td>1</td>\n",
       "      <td>1</td>\n",
       "      <td>-0.397304</td>\n",
       "      <td>1.734164</td>\n",
       "      <td>-0.368486</td>\n",
       "      <td>-0.201711</td>\n",
       "      <td>0.553712</td>\n",
       "      <td>-0.833217</td>\n",
       "      <td>1</td>\n",
       "    </tr>\n",
       "    <tr>\n",
       "      <th>...</th>\n",
       "      <td>...</td>\n",
       "      <td>...</td>\n",
       "      <td>...</td>\n",
       "      <td>...</td>\n",
       "      <td>...</td>\n",
       "      <td>...</td>\n",
       "      <td>...</td>\n",
       "      <td>...</td>\n",
       "      <td>...</td>\n",
       "      <td>...</td>\n",
       "      <td>...</td>\n",
       "      <td>...</td>\n",
       "    </tr>\n",
       "    <tr>\n",
       "      <th>254395</th>\n",
       "      <td>1</td>\n",
       "      <td>1</td>\n",
       "      <td>0</td>\n",
       "      <td>0</td>\n",
       "      <td>0</td>\n",
       "      <td>0.288480</td>\n",
       "      <td>-0.171046</td>\n",
       "      <td>1.331832</td>\n",
       "      <td>0.406753</td>\n",
       "      <td>-0.665479</td>\n",
       "      <td>0.083939</td>\n",
       "      <td>8</td>\n",
       "    </tr>\n",
       "    <tr>\n",
       "      <th>254396</th>\n",
       "      <td>0</td>\n",
       "      <td>1</td>\n",
       "      <td>0</td>\n",
       "      <td>0</td>\n",
       "      <td>0</td>\n",
       "      <td>1.108161</td>\n",
       "      <td>2.409080</td>\n",
       "      <td>-0.246563</td>\n",
       "      <td>-0.258853</td>\n",
       "      <td>0.289491</td>\n",
       "      <td>-0.151380</td>\n",
       "      <td>8</td>\n",
       "    </tr>\n",
       "    <tr>\n",
       "      <th>254397</th>\n",
       "      <td>0</td>\n",
       "      <td>1</td>\n",
       "      <td>0</td>\n",
       "      <td>0</td>\n",
       "      <td>1</td>\n",
       "      <td>0.091177</td>\n",
       "      <td>-0.938605</td>\n",
       "      <td>1.378301</td>\n",
       "      <td>0.020049</td>\n",
       "      <td>0.425827</td>\n",
       "      <td>-0.628626</td>\n",
       "      <td>8</td>\n",
       "    </tr>\n",
       "    <tr>\n",
       "      <th>254398</th>\n",
       "      <td>1</td>\n",
       "      <td>1</td>\n",
       "      <td>0</td>\n",
       "      <td>0</td>\n",
       "      <td>1</td>\n",
       "      <td>-0.194620</td>\n",
       "      <td>0.153938</td>\n",
       "      <td>1.328989</td>\n",
       "      <td>0.365224</td>\n",
       "      <td>-0.212536</td>\n",
       "      <td>-0.556981</td>\n",
       "      <td>8</td>\n",
       "    </tr>\n",
       "    <tr>\n",
       "      <th>254399</th>\n",
       "      <td>0</td>\n",
       "      <td>1</td>\n",
       "      <td>0</td>\n",
       "      <td>0</td>\n",
       "      <td>0</td>\n",
       "      <td>1.062593</td>\n",
       "      <td>0.892565</td>\n",
       "      <td>0.845973</td>\n",
       "      <td>0.057064</td>\n",
       "      <td>0.514463</td>\n",
       "      <td>0.349305</td>\n",
       "      <td>8</td>\n",
       "    </tr>\n",
       "  </tbody>\n",
       "</table>\n",
       "<p>254400 rows × 12 columns</p>\n",
       "</div>"
      ],
      "text/plain": [
       "        y  X1  X2  X3  X4        X5        X6        X7        X8        X9  \\\n",
       "0       1   1   0   1   0  0.274850 -1.214124  0.644812  0.315149 -0.268313   \n",
       "1       0   1   0   0   1 -0.089062 -1.251882 -0.175425 -0.374029 -0.289716   \n",
       "2       0   1   0   0   1 -0.887237  0.159851 -0.780971 -0.182619  0.534424   \n",
       "3       0   1   1   0   1 -0.320914 -0.470441  1.507025 -0.396095 -0.660405   \n",
       "4       0   1   0   1   1 -0.397304  1.734164 -0.368486 -0.201711  0.553712   \n",
       "...    ..  ..  ..  ..  ..       ...       ...       ...       ...       ...   \n",
       "254395  1   1   0   0   0  0.288480 -0.171046  1.331832  0.406753 -0.665479   \n",
       "254396  0   1   0   0   0  1.108161  2.409080 -0.246563 -0.258853  0.289491   \n",
       "254397  0   1   0   0   1  0.091177 -0.938605  1.378301  0.020049  0.425827   \n",
       "254398  1   1   0   0   1 -0.194620  0.153938  1.328989  0.365224 -0.212536   \n",
       "254399  0   1   0   0   0  1.062593  0.892565  0.845973  0.057064  0.514463   \n",
       "\n",
       "             X10  Setting  \n",
       "0       0.397791        1  \n",
       "1      -0.404913        1  \n",
       "2       0.967411        1  \n",
       "3       0.657371        1  \n",
       "4      -0.833217        1  \n",
       "...          ...      ...  \n",
       "254395  0.083939        8  \n",
       "254396 -0.151380        8  \n",
       "254397 -0.628626        8  \n",
       "254398 -0.556981        8  \n",
       "254399  0.349305        8  \n",
       "\n",
       "[254400 rows x 12 columns]"
      ]
     },
     "execution_count": 489,
     "metadata": {},
     "output_type": "execute_result"
    }
   ],
   "source": [
    "gigantic"
   ]
  },
  {
   "cell_type": "code",
   "execution_count": 1020,
   "metadata": {},
   "outputs": [
    {
     "data": {
      "text/plain": [
       "<seaborn.axisgrid.FacetGrid at 0x7fda99b3ceb0>"
      ]
     },
     "execution_count": 1020,
     "metadata": {},
     "output_type": "execute_result"
    },
    {
     "data": {
      "image/png": "[encoded data removed]",
      "text/plain": [
       "<Figure size 921.6x288 with 4 Axes>"
      ]
     },
     "metadata": {},
     "output_type": "display_data"
    }
   ],
   "source": [
    "sns.catplot(col='Setting', data=gigantic1.iloc[:,1:], \n",
    "            kind=\"box\", height=4, aspect=0.8, \n",
    "            palette=\"Set2\", dodge=True, orient='h')"
   ]
  },
  {
   "cell_type": "code",
   "execution_count": 1021,
   "metadata": {},
   "outputs": [
    {
     "data": {
      "text/plain": [
       "<seaborn.axisgrid.FacetGrid at 0x7fda8f98e1f0>"
      ]
     },
     "execution_count": 1021,
     "metadata": {},
     "output_type": "execute_result"
    },
    {
     "data": {
      "image/png": "[encoded data removed]",
      "text/plain": [
       "<Figure size 921.6x288 with 4 Axes>"
      ]
     },
     "metadata": {},
     "output_type": "display_data"
    }
   ],
   "source": [
    "sns.catplot(col='Setting', data=gigantic2.iloc[:,1:], \n",
    "            kind=\"box\", height=4, aspect=0.8, \n",
    "            palette=\"Set2\", dodge=True, orient='h')"
   ]
  },
  {
   "cell_type": "code",
   "execution_count": null,
   "metadata": {},
   "outputs": [],
   "source": []
  },
  {
   "cell_type": "markdown",
   "metadata": {},
   "source": [
    "# Golden truth p-value"
   ]
  },
  {
   "cell_type": "code",
   "execution_count": 589,
   "metadata": {},
   "outputs": [],
   "source": [
    "coefs = [-1.5,0.1,-0.5,-0.3,0.4,-0.2,-0.25,0.35,-0.1,0.5]\n",
    "cols = []\n",
    "for i in range(10):\n",
    "    cols += ['X' + str(i+1)]"
   ]
  },
  {
   "cell_type": "code",
   "execution_count": 593,
   "metadata": {},
   "outputs": [],
   "source": [
    "def Pi(x, beta_0, mu):\n",
    "    return np.asarray((np.exp(x @ beta_0 + mu) / (1 + np.exp(x @ beta_0 + mu))))\n",
    "\n",
    "def output(X, beta):\n",
    "    V = np.diagflat(Pi(X, beta, 0) * (1 - Pi(X, beta, 0)))\n",
    " \n",
    "    SE = np.sqrt(np.diag(inv(np.dot(np.transpose(X) @ V, X)))).reshape(10,1)\n",
    "\n",
    "    Z = beta/SE\n",
    "\n",
    "    P = 2 * norm.cdf(-1 * np.abs(Z))\n",
    "\n",
    "    CI_025  = beta - 1.959964 * SE\n",
    "    CI_975  = beta + 1.959964 * SE\n",
    "\n",
    "    df = pd.DataFrame({'Coef': np.transpose(beta), 'Std.Err': np.transpose(SE)[0],\n",
    "                       'z': np.transpose(Z)[0], 'P-value': np.transpose(P)[0],\n",
    "                       '[0.025': np.transpose(CI_025)[0], '0.975]': np.transpose(CI_975)[0]},\n",
    "                      index = cols)\n",
    "    return df"
   ]
  },
  {
   "cell_type": "markdown",
   "metadata": {},
   "source": [
    "### Setting 1"
   ]
  },
  {
   "cell_type": "code",
   "execution_count": 606,
   "metadata": {},
   "outputs": [],
   "source": [
    "setting1_dir = glob.glob('Setting_1/*.csv')\n",
    "for f in setting1_dir:\n",
    "    X = pd.read_csv(f, index_col=0)[cols]\n",
    "    output(X, coefs).to_csv('./Result_Benchmark/Setting_1_' + f[54:], header = True)"
   ]
  },
  {
   "cell_type": "markdown",
   "metadata": {},
   "source": [
    "### Setting 2"
   ]
  },
  {
   "cell_type": "code",
   "execution_count": 607,
   "metadata": {},
   "outputs": [],
   "source": [
    "setting2_dir = glob.glob('Setting_2/*.csv')\n",
    "for f in setting2_dir:\n",
    "    X = pd.read_csv(f, index_col=0)[cols]\n",
    "    output(X, coefs).to_csv('./Result_Benchmark/Setting_2_' + f[54:], header = True)"
   ]
  },
  {
   "cell_type": "markdown",
   "metadata": {},
   "source": [
    "### Setting 3"
   ]
  },
  {
   "cell_type": "code",
   "execution_count": 608,
   "metadata": {},
   "outputs": [],
   "source": [
    "setting3_dir = glob.glob('Setting_3/*.csv')\n",
    "for f in setting3_dir:\n",
    "    X = pd.read_csv(f, index_col=0)[cols]\n",
    "    output(X, coefs).to_csv('./Result_Benchmark/Setting_3_' + f[55:], header = True)"
   ]
  },
  {
   "cell_type": "markdown",
   "metadata": {},
   "source": [
    "### Setting 4"
   ]
  },
  {
   "cell_type": "code",
   "execution_count": 609,
   "metadata": {},
   "outputs": [],
   "source": [
    "setting4_dir = glob.glob('Setting_4/*.csv')\n",
    "for f in setting4_dir:\n",
    "    X = pd.read_csv(f, index_col=0)[cols]\n",
    "    output(X, coefs).to_csv('./Result_Benchmark/Setting_4_' + f[55:], header = True)"
   ]
  },
  {
   "cell_type": "markdown",
   "metadata": {},
   "source": [
    "### Setting 5"
   ]
  },
  {
   "cell_type": "code",
   "execution_count": 610,
   "metadata": {},
   "outputs": [],
   "source": [
    "setting5_dir = glob.glob('Setting_5/*.csv')\n",
    "for f in setting5_dir:\n",
    "    X = pd.read_csv(f, index_col=0)[cols]\n",
    "    output(X, coefs).to_csv('./Result_Benchmark/Setting_5_' + f[53:], header = True)"
   ]
  },
  {
   "cell_type": "markdown",
   "metadata": {},
   "source": [
    "### Setting 6"
   ]
  },
  {
   "cell_type": "code",
   "execution_count": 611,
   "metadata": {},
   "outputs": [],
   "source": [
    "setting6_dir = glob.glob('Setting_6/*.csv')\n",
    "for f in setting6_dir:\n",
    "    X = pd.read_csv(f, index_col=0)[cols]\n",
    "    output(X, coefs).to_csv('./Result_Benchmark/Setting_6_' + f[53:], header = True)"
   ]
  },
  {
   "cell_type": "markdown",
   "metadata": {},
   "source": [
    "### Setting 7"
   ]
  },
  {
   "cell_type": "code",
   "execution_count": 612,
   "metadata": {},
   "outputs": [],
   "source": [
    "setting7_dir = glob.glob('Setting_7/*.csv')\n",
    "for f in setting7_dir:\n",
    "    X = pd.read_csv(f, index_col=0)[cols]\n",
    "    output(X, coefs).to_csv('./Result_Benchmark/Setting_7_' + f[54:], header = True)"
   ]
  },
  {
   "cell_type": "markdown",
   "metadata": {},
   "source": [
    "### Setting 8"
   ]
  },
  {
   "cell_type": "code",
   "execution_count": 613,
   "metadata": {},
   "outputs": [],
   "source": [
    "setting8_dir = glob.glob('Setting_8/*.csv')\n",
    "for f in setting8_dir:\n",
    "    X = pd.read_csv(f, index_col=0)[cols]\n",
    "    output(X, coefs).to_csv('./Result_Benchmark/Setting_8_' + f[54:], header = True)"
   ]
  },
  {
   "cell_type": "code",
   "execution_count": null,
   "metadata": {},
   "outputs": [],
   "source": []
  },
  {
   "cell_type": "markdown",
   "metadata": {},
   "source": [
    "# Comparison between Benchmark"
   ]
  },
  {
   "cell_type": "code",
   "execution_count": 614,
   "metadata": {},
   "outputs": [],
   "source": [
    "LA_files_dirs = glob.glob('Result_LA/*.csv')\n",
    "GH_files_dirs = glob.glob('Result_GH/*.csv')\n",
    "R_files_dirs = glob.glob('Result_R/*.csv')\n",
    "Ben_files_dirs = glob.glob('Result_Benchmark/*.csv')"
   ]
  },
  {
   "cell_type": "code",
   "execution_count": 615,
   "metadata": {},
   "outputs": [],
   "source": [
    "LA_result = []\n",
    "GH_result = []\n",
    "R_result = []\n",
    "Ben_result = []\n",
    "for d in LA_files_dirs:\n",
    "    LA_result.append(d.split('/')[1])\n",
    "for d in GH_files_dirs:\n",
    "    GH_result.append(d.split('/')[1])\n",
    "for d in R_files_dirs:\n",
    "    R_result.append(d.split('/')[1])\n",
    "for d in Ben_files_dirs:\n",
    "    Ben_result.append(d.split('/')[1])"
   ]
  },
  {
   "cell_type": "markdown",
   "metadata": {},
   "source": [
    "## R vs Benchmark"
   ]
  },
  {
   "cell_type": "code",
   "execution_count": 838,
   "metadata": {},
   "outputs": [],
   "source": [
    "thres = 0.05"
   ]
  },
  {
   "cell_type": "code",
   "execution_count": 839,
   "metadata": {},
   "outputs": [],
   "source": [
    "ben_pvalues = pd.DataFrame()\n",
    "for f in set(Ben_result).intersection(set(R_result)):\n",
    "    df = pd.read_csv('Result_Benchmark/' + f, index_col=0)['P-value']\n",
    "    ben_pvalues = pd.concat([ben_pvalues, df], axis = 1)\n",
    "ben_pvalues.columns = set(Ben_result).intersection(set(R_result))\n",
    "ben_pvalues = (ben_pvalues <= thres)\n",
    "ben_pvalues.replace(True, 1, inplace = True)\n",
    "ben_pvalues.replace(False, 0, inplace = True)"
   ]
  },
  {
   "cell_type": "code",
   "execution_count": 840,
   "metadata": {},
   "outputs": [],
   "source": [
    "r_pvalues = pd.DataFrame()\n",
    "for f in set(Ben_result).intersection(set(R_result)):\n",
    "    df = pd.read_csv('Result_R/' + f, index_col=0)['P-value']\n",
    "    r_pvalues = pd.concat([r_pvalues, df], axis = 1)\n",
    "r_pvalues.columns = set(LA_result).intersection(set(R_result))\n",
    "r_pvalues = (r_pvalues <= thres)\n",
    "r_pvalues.replace(True, 1, inplace = True)\n",
    "r_pvalues.replace(False, 0, inplace = True)"
   ]
  },
  {
   "cell_type": "markdown",
   "metadata": {},
   "source": [
    "### Precision Recall Accuracy"
   ]
  },
  {
   "cell_type": "code",
   "execution_count": 841,
   "metadata": {},
   "outputs": [],
   "source": [
    "tp = (ben_pvalues * r_pvalues).sum(axis = 1)\n",
    "tn = (ben_pvalues + r_pvalues == 0).sum(axis = 1)\n",
    "fp = (ben_pvalues - r_pvalues == 1).sum(axis = 1)\n",
    "fn = (ben_pvalues - r_pvalues == -1).sum(axis = 1)\n",
    "precision = tp / (tp + fp)\n",
    "recall = tp / (tp + fn)\n",
    "TNR = tn / (tn + fp)\n",
    "accuracy = (tp + tn) / (tp + tn + fp + fn)"
   ]
  },
  {
   "cell_type": "code",
   "execution_count": 842,
   "metadata": {},
   "outputs": [],
   "source": [
    "r_pra = pd.DataFrame([precision, recall, TNR, accuracy], \n",
    "             index=['Precision', 'Recall', 'True negative rate', 'Accuracy']).T"
   ]
  },
  {
   "cell_type": "code",
   "execution_count": null,
   "metadata": {},
   "outputs": [],
   "source": []
  },
  {
   "cell_type": "markdown",
   "metadata": {},
   "source": [
    "## LA vs Benchmark"
   ]
  },
  {
   "cell_type": "code",
   "execution_count": 843,
   "metadata": {},
   "outputs": [],
   "source": [
    "thres = 0.05"
   ]
  },
  {
   "cell_type": "code",
   "execution_count": 844,
   "metadata": {},
   "outputs": [],
   "source": [
    "ben_pvalues = pd.DataFrame()\n",
    "for f in set(Ben_result).intersection(set(LA_result)):\n",
    "    df = pd.read_csv('Result_Benchmark/' + f, index_col=0)['P-value']\n",
    "    ben_pvalues = pd.concat([ben_pvalues, df], axis = 1)\n",
    "ben_pvalues.columns = set(Ben_result).intersection(set(LA_result))\n",
    "ben_pvalues = (ben_pvalues <= thres)\n",
    "ben_pvalues.replace(True, 1, inplace = True)\n",
    "ben_pvalues.replace(False, 0, inplace = True)"
   ]
  },
  {
   "cell_type": "code",
   "execution_count": 845,
   "metadata": {},
   "outputs": [],
   "source": [
    "la_pvalues = pd.DataFrame()\n",
    "for f in set(Ben_result).intersection(set(LA_result)):\n",
    "    df = pd.read_csv('Result_LA/' + f, index_col=0)['P-value']\n",
    "    la_pvalues = pd.concat([la_pvalues, df], axis = 1)\n",
    "la_pvalues.columns = set(Ben_result).intersection(set(LA_result))\n",
    "la_pvalues = (la_pvalues <= thres)\n",
    "la_pvalues.replace(True, 1, inplace = True)\n",
    "la_pvalues.replace(False, 0, inplace = True)"
   ]
  },
  {
   "cell_type": "markdown",
   "metadata": {},
   "source": [
    "### Precision Recall Accuracy"
   ]
  },
  {
   "cell_type": "code",
   "execution_count": 846,
   "metadata": {},
   "outputs": [],
   "source": [
    "tp = (ben_pvalues * la_pvalues).sum(axis = 1)\n",
    "tn = (ben_pvalues + la_pvalues == 0).sum(axis = 1)\n",
    "fp = (ben_pvalues - la_pvalues == 1).sum(axis = 1)\n",
    "fn = (ben_pvalues - la_pvalues == -1).sum(axis = 1)\n",
    "precision = tp / (tp + fp)\n",
    "recall = tp / (tp + fn)\n",
    "TNR = tn / (tn + fp)\n",
    "accuracy = (tp + tn) / (tp + tn + fp + fn)"
   ]
  },
  {
   "cell_type": "code",
   "execution_count": 847,
   "metadata": {},
   "outputs": [],
   "source": [
    "la_pra=pd.DataFrame([precision, recall, TNR, accuracy], \n",
    "             index=['Precision', 'Recall', 'True negative rate', 'Accuracy']).T"
   ]
  },
  {
   "cell_type": "markdown",
   "metadata": {},
   "source": [
    "## GH vs Benchmark"
   ]
  },
  {
   "cell_type": "code",
   "execution_count": 848,
   "metadata": {},
   "outputs": [],
   "source": [
    "thres = 0.05"
   ]
  },
  {
   "cell_type": "code",
   "execution_count": 849,
   "metadata": {},
   "outputs": [],
   "source": [
    "ben_pvalues = pd.DataFrame()\n",
    "for f in set(Ben_result).intersection(set(GH_result)):\n",
    "    df = pd.read_csv('Result_Benchmark/' + f, index_col=0)['P-value']\n",
    "    ben_pvalues = pd.concat([ben_pvalues, df], axis = 1)\n",
    "ben_pvalues.columns = set(Ben_result).intersection(set(GH_result))\n",
    "ben_pvalues = (ben_pvalues <= thres)\n",
    "ben_pvalues.replace(True, 1, inplace = True)\n",
    "ben_pvalues.replace(False, 0, inplace = True)"
   ]
  },
  {
   "cell_type": "code",
   "execution_count": 850,
   "metadata": {},
   "outputs": [],
   "source": [
    "gh_pvalues = pd.DataFrame()\n",
    "for f in set(Ben_result).intersection(set(GH_result)):\n",
    "    df = pd.read_csv('Result_GH/' + f, index_col=0)['P-value']\n",
    "    gh_pvalues = pd.concat([gh_pvalues, df], axis = 1)\n",
    "gh_pvalues.columns = set(Ben_result).intersection(set(GH_result))\n",
    "gh_pvalues = (gh_pvalues <= thres)\n",
    "gh_pvalues.replace(True, 1, inplace = True)\n",
    "gh_pvalues.replace(False, 0, inplace = True)"
   ]
  },
  {
   "cell_type": "markdown",
   "metadata": {},
   "source": [
    "### Precision Recall Accuracy"
   ]
  },
  {
   "cell_type": "code",
   "execution_count": 851,
   "metadata": {},
   "outputs": [],
   "source": [
    "tp = (ben_pvalues * gh_pvalues).sum(axis = 1)\n",
    "tn = (ben_pvalues + gh_pvalues == 0).sum(axis = 1)\n",
    "fp = (ben_pvalues - gh_pvalues == 1).sum(axis = 1)\n",
    "fn = (ben_pvalues - gh_pvalues == -1).sum(axis = 1)\n",
    "precision = tp / (tp + fp)\n",
    "recall = tp / (tp + fn)\n",
    "TNR = tn / (tn + fp)\n",
    "accuracy = (tp + tn) / (tp + tn + fp + fn)"
   ]
  },
  {
   "cell_type": "code",
   "execution_count": 852,
   "metadata": {},
   "outputs": [],
   "source": [
    "gh_pra=pd.DataFrame([precision, recall, TNR, accuracy], \n",
    "             index=['Precision', 'Recall', 'True negative rate', 'Accuracy']).T"
   ]
  },
  {
   "cell_type": "code",
   "execution_count": null,
   "metadata": {},
   "outputs": [],
   "source": []
  },
  {
   "cell_type": "code",
   "execution_count": 853,
   "metadata": {},
   "outputs": [],
   "source": [
    "r_pra['method']='Centralized'\n",
    "la_pra['method']='LA'\n",
    "gh_pra['method']='GH'\n",
    "pra = pd.concat([r_pra, la_pra, gh_pra], ignore_index=True)"
   ]
  },
  {
   "cell_type": "code",
   "execution_count": 866,
   "metadata": {},
   "outputs": [
    {
     "data": {
      "text/html": [
       "<div>\n",
       "<style scoped>\n",
       "    .dataframe tbody tr th:only-of-type {\n",
       "        vertical-align: middle;\n",
       "    }\n",
       "\n",
       "    .dataframe tbody tr th {\n",
       "        vertical-align: top;\n",
       "    }\n",
       "\n",
       "    .dataframe thead th {\n",
       "        text-align: right;\n",
       "    }\n",
       "</style>\n",
       "<table border=\"1\" class=\"dataframe\">\n",
       "  <thead>\n",
       "    <tr style=\"text-align: right;\">\n",
       "      <th></th>\n",
       "      <th>X1</th>\n",
       "      <th>X2</th>\n",
       "      <th>X3</th>\n",
       "      <th>X4</th>\n",
       "      <th>X5</th>\n",
       "      <th>X6</th>\n",
       "      <th>X7</th>\n",
       "      <th>X8</th>\n",
       "      <th>X9</th>\n",
       "      <th>X10</th>\n",
       "    </tr>\n",
       "  </thead>\n",
       "  <tbody>\n",
       "    <tr>\n",
       "      <th>Precision</th>\n",
       "      <td>0.716216</td>\n",
       "      <td>0.1</td>\n",
       "      <td>0.591667</td>\n",
       "      <td>0.44</td>\n",
       "      <td>0.570312</td>\n",
       "      <td>0.47973</td>\n",
       "      <td>0.716216</td>\n",
       "      <td>0.316667</td>\n",
       "      <td>0.141667</td>\n",
       "      <td>0.632653</td>\n",
       "    </tr>\n",
       "    <tr>\n",
       "      <th>Recall</th>\n",
       "      <td>1</td>\n",
       "      <td>0.923077</td>\n",
       "      <td>0.972603</td>\n",
       "      <td>0.964912</td>\n",
       "      <td>0.986486</td>\n",
       "      <td>1</td>\n",
       "      <td>1</td>\n",
       "      <td>0.926829</td>\n",
       "      <td>0.85</td>\n",
       "      <td>1</td>\n",
       "    </tr>\n",
       "    <tr>\n",
       "      <th>True negative rate</th>\n",
       "      <td>0</td>\n",
       "      <td>0.2</td>\n",
       "      <td>0.346667</td>\n",
       "      <td>0.230769</td>\n",
       "      <td>0.256757</td>\n",
       "      <td>0</td>\n",
       "      <td>0</td>\n",
       "      <td>0.233645</td>\n",
       "      <td>0.195312</td>\n",
       "      <td>0.0181818</td>\n",
       "    </tr>\n",
       "    <tr>\n",
       "      <th>Accuracy</th>\n",
       "      <td>0.716216</td>\n",
       "      <td>0.263514</td>\n",
       "      <td>0.655405</td>\n",
       "      <td>0.513514</td>\n",
       "      <td>0.621622</td>\n",
       "      <td>0.47973</td>\n",
       "      <td>0.716216</td>\n",
       "      <td>0.425676</td>\n",
       "      <td>0.283784</td>\n",
       "      <td>0.635135</td>\n",
       "    </tr>\n",
       "    <tr>\n",
       "      <th>method</th>\n",
       "      <td>Centralized</td>\n",
       "      <td>Centralized</td>\n",
       "      <td>Centralized</td>\n",
       "      <td>Centralized</td>\n",
       "      <td>Centralized</td>\n",
       "      <td>Centralized</td>\n",
       "      <td>Centralized</td>\n",
       "      <td>Centralized</td>\n",
       "      <td>Centralized</td>\n",
       "      <td>Centralized</td>\n",
       "    </tr>\n",
       "    <tr>\n",
       "      <th>Precision</th>\n",
       "      <td>0.70625</td>\n",
       "      <td>0.0833333</td>\n",
       "      <td>0.575</td>\n",
       "      <td>0.460938</td>\n",
       "      <td>0.530303</td>\n",
       "      <td>0.4375</td>\n",
       "      <td>0.65625</td>\n",
       "      <td>0.3</td>\n",
       "      <td>0.15</td>\n",
       "      <td>0.531646</td>\n",
       "    </tr>\n",
       "    <tr>\n",
       "      <th>Recall</th>\n",
       "      <td>1</td>\n",
       "      <td>1</td>\n",
       "      <td>0.985714</td>\n",
       "      <td>1</td>\n",
       "      <td>0.985915</td>\n",
       "      <td>1</td>\n",
       "      <td>1</td>\n",
       "      <td>1</td>\n",
       "      <td>1</td>\n",
       "      <td>1</td>\n",
       "    </tr>\n",
       "    <tr>\n",
       "      <th>True negative rate</th>\n",
       "      <td>0</td>\n",
       "      <td>0.266667</td>\n",
       "      <td>0.433333</td>\n",
       "      <td>0.316832</td>\n",
       "      <td>0.303371</td>\n",
       "      <td>0</td>\n",
       "      <td>0</td>\n",
       "      <td>0.322581</td>\n",
       "      <td>0.28169</td>\n",
       "      <td>0.0263158</td>\n",
       "    </tr>\n",
       "    <tr>\n",
       "      <th>Accuracy</th>\n",
       "      <td>0.70625</td>\n",
       "      <td>0.3125</td>\n",
       "      <td>0.675</td>\n",
       "      <td>0.56875</td>\n",
       "      <td>0.60625</td>\n",
       "      <td>0.4375</td>\n",
       "      <td>0.65625</td>\n",
       "      <td>0.475</td>\n",
       "      <td>0.3625</td>\n",
       "      <td>0.5375</td>\n",
       "    </tr>\n",
       "    <tr>\n",
       "      <th>method</th>\n",
       "      <td>LA</td>\n",
       "      <td>LA</td>\n",
       "      <td>LA</td>\n",
       "      <td>LA</td>\n",
       "      <td>LA</td>\n",
       "      <td>LA</td>\n",
       "      <td>LA</td>\n",
       "      <td>LA</td>\n",
       "      <td>LA</td>\n",
       "      <td>LA</td>\n",
       "    </tr>\n",
       "    <tr>\n",
       "      <th>Precision</th>\n",
       "      <td>0.545455</td>\n",
       "      <td>0.315789</td>\n",
       "      <td>0.640351</td>\n",
       "      <td>0.606557</td>\n",
       "      <td>0.595238</td>\n",
       "      <td>0.525974</td>\n",
       "      <td>0.694805</td>\n",
       "      <td>0.5</td>\n",
       "      <td>0.438596</td>\n",
       "      <td>0.565789</td>\n",
       "    </tr>\n",
       "    <tr>\n",
       "      <th>Recall</th>\n",
       "      <td>1</td>\n",
       "      <td>1</td>\n",
       "      <td>1</td>\n",
       "      <td>1</td>\n",
       "      <td>1</td>\n",
       "      <td>1</td>\n",
       "      <td>1</td>\n",
       "      <td>0.982759</td>\n",
       "      <td>1</td>\n",
       "      <td>1</td>\n",
       "    </tr>\n",
       "    <tr>\n",
       "      <th>True negative rate</th>\n",
       "      <td>0</td>\n",
       "      <td>0.338983</td>\n",
       "      <td>0.493827</td>\n",
       "      <td>0.4</td>\n",
       "      <td>0.35443</td>\n",
       "      <td>0</td>\n",
       "      <td>0</td>\n",
       "      <td>0.40625</td>\n",
       "      <td>0.384615</td>\n",
       "      <td>0.0294118</td>\n",
       "    </tr>\n",
       "    <tr>\n",
       "      <th>Accuracy</th>\n",
       "      <td>0.545455</td>\n",
       "      <td>0.493506</td>\n",
       "      <td>0.733766</td>\n",
       "      <td>0.688312</td>\n",
       "      <td>0.668831</td>\n",
       "      <td>0.525974</td>\n",
       "      <td>0.694805</td>\n",
       "      <td>0.623377</td>\n",
       "      <td>0.584416</td>\n",
       "      <td>0.571429</td>\n",
       "    </tr>\n",
       "    <tr>\n",
       "      <th>method</th>\n",
       "      <td>GH</td>\n",
       "      <td>GH</td>\n",
       "      <td>GH</td>\n",
       "      <td>GH</td>\n",
       "      <td>GH</td>\n",
       "      <td>GH</td>\n",
       "      <td>GH</td>\n",
       "      <td>GH</td>\n",
       "      <td>GH</td>\n",
       "      <td>GH</td>\n",
       "    </tr>\n",
       "  </tbody>\n",
       "</table>\n",
       "</div>"
      ],
      "text/plain": [
       "                             X1           X2           X3           X4  \\\n",
       "Precision              0.716216          0.1     0.591667         0.44   \n",
       "Recall                        1     0.923077     0.972603     0.964912   \n",
       "True negative rate            0          0.2     0.346667     0.230769   \n",
       "Accuracy               0.716216     0.263514     0.655405     0.513514   \n",
       "method              Centralized  Centralized  Centralized  Centralized   \n",
       "Precision               0.70625    0.0833333        0.575     0.460938   \n",
       "Recall                        1            1     0.985714            1   \n",
       "True negative rate            0     0.266667     0.433333     0.316832   \n",
       "Accuracy                0.70625       0.3125        0.675      0.56875   \n",
       "method                       LA           LA           LA           LA   \n",
       "Precision              0.545455     0.315789     0.640351     0.606557   \n",
       "Recall                        1            1            1            1   \n",
       "True negative rate            0     0.338983     0.493827          0.4   \n",
       "Accuracy               0.545455     0.493506     0.733766     0.688312   \n",
       "method                       GH           GH           GH           GH   \n",
       "\n",
       "                             X5           X6           X7           X8  \\\n",
       "Precision              0.570312      0.47973     0.716216     0.316667   \n",
       "Recall                 0.986486            1            1     0.926829   \n",
       "True negative rate     0.256757            0            0     0.233645   \n",
       "Accuracy               0.621622      0.47973     0.716216     0.425676   \n",
       "method              Centralized  Centralized  Centralized  Centralized   \n",
       "Precision              0.530303       0.4375      0.65625          0.3   \n",
       "Recall                 0.985915            1            1            1   \n",
       "True negative rate     0.303371            0            0     0.322581   \n",
       "Accuracy                0.60625       0.4375      0.65625        0.475   \n",
       "method                       LA           LA           LA           LA   \n",
       "Precision              0.595238     0.525974     0.694805          0.5   \n",
       "Recall                        1            1            1     0.982759   \n",
       "True negative rate      0.35443            0            0      0.40625   \n",
       "Accuracy               0.668831     0.525974     0.694805     0.623377   \n",
       "method                       GH           GH           GH           GH   \n",
       "\n",
       "                             X9          X10  \n",
       "Precision              0.141667     0.632653  \n",
       "Recall                     0.85            1  \n",
       "True negative rate     0.195312    0.0181818  \n",
       "Accuracy               0.283784     0.635135  \n",
       "method              Centralized  Centralized  \n",
       "Precision                  0.15     0.531646  \n",
       "Recall                        1            1  \n",
       "True negative rate      0.28169    0.0263158  \n",
       "Accuracy                 0.3625       0.5375  \n",
       "method                       LA           LA  \n",
       "Precision              0.438596     0.565789  \n",
       "Recall                        1            1  \n",
       "True negative rate     0.384615    0.0294118  \n",
       "Accuracy               0.584416     0.571429  \n",
       "method                       GH           GH  "
      ]
     },
     "execution_count": 866,
     "metadata": {},
     "output_type": "execute_result"
    }
   ],
   "source": [
    "pd.concat([r_pra.T, la_pra.T, gh_pra.T])"
   ]
  },
  {
   "cell_type": "code",
   "execution_count": 860,
   "metadata": {},
   "outputs": [
    {
     "ename": "ValueError",
     "evalue": "Could not interpret input 'X1'",
     "output_type": "error",
     "traceback": [
      "\u001b[0;31m---------------------------------------------------------------------------\u001b[0m",
      "\u001b[0;31mValueError\u001b[0m                                Traceback (most recent call last)",
      "\u001b[0;32m<ipython-input-860-7609c1a8fe0a>\u001b[0m in \u001b[0;36m<module>\u001b[0;34m\u001b[0m\n\u001b[0;32m----> 1\u001b[0;31m sns.catplot(col='method', data=pra, x='X1',\n\u001b[0m\u001b[1;32m      2\u001b[0m             \u001b[0mkind\u001b[0m\u001b[0;34m=\u001b[0m\u001b[0;34m\"bar\"\u001b[0m\u001b[0;34m,\u001b[0m \u001b[0mheight\u001b[0m\u001b[0;34m=\u001b[0m\u001b[0;36m4\u001b[0m\u001b[0;34m,\u001b[0m \u001b[0maspect\u001b[0m\u001b[0;34m=\u001b[0m\u001b[0;36m0.8\u001b[0m\u001b[0;34m,\u001b[0m\u001b[0;34m\u001b[0m\u001b[0;34m\u001b[0m\u001b[0m\n\u001b[1;32m      3\u001b[0m             palette=\"Set2\", dodge=True, orient='h')\n",
      "\u001b[0;32m~/opt/anaconda3/lib/python3.8/site-packages/seaborn/_decorators.py\u001b[0m in \u001b[0;36minner_f\u001b[0;34m(*args, **kwargs)\u001b[0m\n\u001b[1;32m     44\u001b[0m             )\n\u001b[1;32m     45\u001b[0m         \u001b[0mkwargs\u001b[0m\u001b[0;34m.\u001b[0m\u001b[0mupdate\u001b[0m\u001b[0;34m(\u001b[0m\u001b[0;34m{\u001b[0m\u001b[0mk\u001b[0m\u001b[0;34m:\u001b[0m \u001b[0marg\u001b[0m \u001b[0;32mfor\u001b[0m \u001b[0mk\u001b[0m\u001b[0;34m,\u001b[0m \u001b[0marg\u001b[0m \u001b[0;32min\u001b[0m \u001b[0mzip\u001b[0m\u001b[0;34m(\u001b[0m\u001b[0msig\u001b[0m\u001b[0;34m.\u001b[0m\u001b[0mparameters\u001b[0m\u001b[0;34m,\u001b[0m \u001b[0margs\u001b[0m\u001b[0;34m)\u001b[0m\u001b[0;34m}\u001b[0m\u001b[0;34m)\u001b[0m\u001b[0;34m\u001b[0m\u001b[0;34m\u001b[0m\u001b[0m\n\u001b[0;32m---> 46\u001b[0;31m         \u001b[0;32mreturn\u001b[0m \u001b[0mf\u001b[0m\u001b[0;34m(\u001b[0m\u001b[0;34m**\u001b[0m\u001b[0mkwargs\u001b[0m\u001b[0;34m)\u001b[0m\u001b[0;34m\u001b[0m\u001b[0;34m\u001b[0m\u001b[0m\n\u001b[0m\u001b[1;32m     47\u001b[0m     \u001b[0;32mreturn\u001b[0m \u001b[0minner_f\u001b[0m\u001b[0;34m\u001b[0m\u001b[0;34m\u001b[0m\u001b[0m\n\u001b[1;32m     48\u001b[0m \u001b[0;34m\u001b[0m\u001b[0m\n",
      "\u001b[0;32m~/opt/anaconda3/lib/python3.8/site-packages/seaborn/categorical.py\u001b[0m in \u001b[0;36mcatplot\u001b[0;34m(x, y, hue, data, row, col, col_wrap, estimator, ci, n_boot, units, seed, order, hue_order, row_order, col_order, kind, height, aspect, orient, color, palette, legend, legend_out, sharex, sharey, margin_titles, facet_kws, **kwargs)\u001b[0m\n\u001b[1;32m   3777\u001b[0m     \u001b[0mp\u001b[0m \u001b[0;34m=\u001b[0m \u001b[0m_CategoricalPlotter\u001b[0m\u001b[0;34m(\u001b[0m\u001b[0;34m)\u001b[0m\u001b[0;34m\u001b[0m\u001b[0;34m\u001b[0m\u001b[0m\n\u001b[1;32m   3778\u001b[0m     \u001b[0mp\u001b[0m\u001b[0;34m.\u001b[0m\u001b[0mrequire_numeric\u001b[0m \u001b[0;34m=\u001b[0m \u001b[0mplotter_class\u001b[0m\u001b[0;34m.\u001b[0m\u001b[0mrequire_numeric\u001b[0m\u001b[0;34m\u001b[0m\u001b[0;34m\u001b[0m\u001b[0m\n\u001b[0;32m-> 3779\u001b[0;31m     \u001b[0mp\u001b[0m\u001b[0;34m.\u001b[0m\u001b[0mestablish_variables\u001b[0m\u001b[0;34m(\u001b[0m\u001b[0mx_\u001b[0m\u001b[0;34m,\u001b[0m \u001b[0my_\u001b[0m\u001b[0;34m,\u001b[0m \u001b[0mhue\u001b[0m\u001b[0;34m,\u001b[0m \u001b[0mdata\u001b[0m\u001b[0;34m,\u001b[0m \u001b[0morient\u001b[0m\u001b[0;34m,\u001b[0m \u001b[0morder\u001b[0m\u001b[0;34m,\u001b[0m \u001b[0mhue_order\u001b[0m\u001b[0;34m)\u001b[0m\u001b[0;34m\u001b[0m\u001b[0;34m\u001b[0m\u001b[0m\n\u001b[0m\u001b[1;32m   3780\u001b[0m     if (\n\u001b[1;32m   3781\u001b[0m         \u001b[0morder\u001b[0m \u001b[0;32mis\u001b[0m \u001b[0;32mnot\u001b[0m \u001b[0;32mNone\u001b[0m\u001b[0;34m\u001b[0m\u001b[0;34m\u001b[0m\u001b[0m\n",
      "\u001b[0;32m~/opt/anaconda3/lib/python3.8/site-packages/seaborn/categorical.py\u001b[0m in \u001b[0;36mestablish_variables\u001b[0;34m(self, x, y, hue, data, orient, order, hue_order, units)\u001b[0m\n\u001b[1;32m    151\u001b[0m                 \u001b[0;32mif\u001b[0m \u001b[0misinstance\u001b[0m\u001b[0;34m(\u001b[0m\u001b[0mvar\u001b[0m\u001b[0;34m,\u001b[0m \u001b[0mstr\u001b[0m\u001b[0;34m)\u001b[0m\u001b[0;34m:\u001b[0m\u001b[0;34m\u001b[0m\u001b[0;34m\u001b[0m\u001b[0m\n\u001b[1;32m    152\u001b[0m                     \u001b[0merr\u001b[0m \u001b[0;34m=\u001b[0m \u001b[0;34m\"Could not interpret input '{}'\"\u001b[0m\u001b[0;34m.\u001b[0m\u001b[0mformat\u001b[0m\u001b[0;34m(\u001b[0m\u001b[0mvar\u001b[0m\u001b[0;34m)\u001b[0m\u001b[0;34m\u001b[0m\u001b[0;34m\u001b[0m\u001b[0m\n\u001b[0;32m--> 153\u001b[0;31m                     \u001b[0;32mraise\u001b[0m \u001b[0mValueError\u001b[0m\u001b[0;34m(\u001b[0m\u001b[0merr\u001b[0m\u001b[0;34m)\u001b[0m\u001b[0;34m\u001b[0m\u001b[0;34m\u001b[0m\u001b[0m\n\u001b[0m\u001b[1;32m    154\u001b[0m \u001b[0;34m\u001b[0m\u001b[0m\n\u001b[1;32m    155\u001b[0m             \u001b[0;31m# Figure out the plotting orientation\u001b[0m\u001b[0;34m\u001b[0m\u001b[0;34m\u001b[0m\u001b[0;34m\u001b[0m\u001b[0m\n",
      "\u001b[0;31mValueError\u001b[0m: Could not interpret input 'X1'"
     ]
    }
   ],
   "source": [
    "sns.catplot(col='method', data=pra, x='X1',\n",
    "            kind=\"bar\", height=4, aspect=0.8, \n",
    "            palette=\"Set2\", dodge=True, orient='h')"
   ]
  },
  {
   "cell_type": "code",
   "execution_count": null,
   "metadata": {},
   "outputs": [],
   "source": []
  },
  {
   "cell_type": "code",
   "execution_count": null,
   "metadata": {},
   "outputs": [],
   "source": []
  },
  {
   "cell_type": "code",
   "execution_count": null,
   "metadata": {},
   "outputs": [],
   "source": []
  },
  {
   "cell_type": "code",
   "execution_count": null,
   "metadata": {},
   "outputs": [],
   "source": []
  },
  {
   "cell_type": "code",
   "execution_count": null,
   "metadata": {},
   "outputs": [],
   "source": []
  },
  {
   "cell_type": "code",
   "execution_count": null,
   "metadata": {},
   "outputs": [],
   "source": []
  },
  {
   "cell_type": "code",
   "execution_count": null,
   "metadata": {},
   "outputs": [],
   "source": []
  },
  {
   "cell_type": "markdown",
   "metadata": {},
   "source": [
    "### Power curve"
   ]
  },
  {
   "cell_type": "code",
   "execution_count": 935,
   "metadata": {},
   "outputs": [],
   "source": [
    "ben_pvalues = pd.DataFrame()\n",
    "for f in set(Ben_result).intersection(set(GH_result)):\n",
    "    df = pd.read_csv('Result_Benchmark/' + f, index_col=0)['P-value']\n",
    "    ben_pvalues = pd.concat([ben_pvalues, df], axis = 1)\n",
    "ben_pvalues.columns = set(Ben_result).intersection(set(GH_result))\n",
    "\n",
    "r_pvalues = pd.DataFrame()\n",
    "for f in set(Ben_result).intersection(set(R_result)):\n",
    "    df = pd.read_csv('Result_R/' + f, index_col=0)['P-value']\n",
    "    r_pvalues = pd.concat([r_pvalues, df], axis = 1)\n",
    "r_pvalues.columns = set(LA_result).intersection(set(R_result))\n",
    "\n",
    "la_pvalues = pd.DataFrame()\n",
    "for f in set(Ben_result).intersection(set(LA_result)):\n",
    "    df = pd.read_csv('Result_LA/' + f, index_col=0)['P-value']\n",
    "    la_pvalues = pd.concat([la_pvalues, df], axis = 1)\n",
    "la_pvalues.columns = set(Ben_result).intersection(set(LA_result))\n",
    "\n",
    "gh_pvalues = pd.DataFrame()\n",
    "for f in set(Ben_result).intersection(set(GH_result)):\n",
    "    df = pd.read_csv('Result_GH/' + f, index_col=0)['P-value']\n",
    "    gh_pvalues = pd.concat([gh_pvalues, df], axis = 1)\n",
    "gh_pvalues.columns = set(Ben_result).intersection(set(GH_result))\n",
    "\n",
    "# power = []\n",
    "# for thres in np.arange(0,1.01,0.01):\n",
    "#     ben = (ben_pvalues <= thres)\n",
    "#     ben.replace(True, 1, inplace = True)\n",
    "#     ben.replace(False, 0, inplace = True)\n",
    "#     gh = (gh_pvalues <= thres)\n",
    "#     gh.replace(True, 1, inplace = True)\n",
    "#     gh.replace(False, 0, inplace = True)\n",
    "#     tp = (ben * gh).sum(axis = 1)\n",
    "#     tn = (ben + gh == 0).sum(axis = 1)\n",
    "#     fp = (ben - gh == 1).sum(axis = 1)\n",
    "#     fn = (ben - gh == -1).sum(axis = 1)\n",
    "#     power += [tp/(tp + fn)]"
   ]
  },
  {
   "cell_type": "code",
   "execution_count": 1015,
   "metadata": {},
   "outputs": [
    {
     "data": {
      "image/png": "[encoded data removed]",
      "text/plain": [
       "<Figure size 720x432 with 3 Axes>"
      ]
     },
     "metadata": {},
     "output_type": "display_data"
    }
   ],
   "source": [
    "fig, axes = plt.subplots(1, 3, figsize=(10,6), sharey=True)\n",
    "sns.histplot(((r_pvalues - ben_pvalues).T / np.std((r_pvalues - ben_pvalues).T)),\n",
    "             element=\"step\", fill=False, cumulative=True, stat=\"density\", common_norm=False,\n",
    "             bins = 50, ax=axes[2])\n",
    "sns.histplot(((la_pvalues - ben_pvalues).T / np.std((la_pvalues - ben_pvalues).T)),\n",
    "             element=\"step\", fill=False, cumulative=True, stat=\"density\", common_norm=False,\n",
    "             bins = 50, ax=axes[0], legend=False)\n",
    "sns.histplot(((gh_pvalues - ben_pvalues).T / np.std((gh_pvalues - ben_pvalues).T)),\n",
    "             element=\"step\", fill=False, cumulative=True, stat=\"density\", common_norm=False,\n",
    "             bins = 50, ax=axes[1], legend=False)\n",
    "axes[2].set(xlabel='Z', ylabel='Power', title='method = Centralized')\n",
    "axes[0].set(xlabel='Z', ylabel='Power', title='method = LA')\n",
    "axes[1].set(xlabel='Z', ylabel='Power', title='method = GH')\n",
    "sns.despine()\n",
    "plt.savefig('/Users/wli17/Dropbox/Research/GLMM_paper/power.png')\n",
    "# g.set(xlabel='Z', ylabel='Power', title='Centralized')"
   ]
  },
  {
   "cell_type": "code",
   "execution_count": 973,
   "metadata": {},
   "outputs": [
    {
     "data": {
      "text/plain": [
       "[Text(0.5, 0, 'Z'), Text(0, 0.5, 'Power'), Text(0.5, 1.0, 'Laplace')]"
      ]
     },
     "execution_count": 973,
     "metadata": {},
     "output_type": "execute_result"
    },
    {
     "data": {
      "image/png": "[encoded data removed]",
      "text/plain": [
       "<Figure size 432x288 with 1 Axes>"
      ]
     },
     "metadata": {},
     "output_type": "display_data"
    }
   ],
   "source": [
    "g = sns.histplot(((la_pvalues - ben_pvalues).T / np.std((la_pvalues - ben_pvalues).T)),\n",
    "             element=\"step\", fill=False, cumulative=True, stat=\"density\", common_norm=False,\n",
    "             bins = 50)\n",
    "g.set(xlabel='Z', ylabel='Power', title='Laplace')"
   ]
  },
  {
   "cell_type": "code",
   "execution_count": 962,
   "metadata": {},
   "outputs": [
    {
     "data": {
      "text/plain": [
       "[Text(0.5, 0, 'Z'), Text(0, 0.5, 'Power'), Text(0.5, 1.0, 'Gauss-Hermite')]"
      ]
     },
     "execution_count": 962,
     "metadata": {},
     "output_type": "execute_result"
    },
    {
     "data": {
      "image/png": "[encoded data removed]",
      "text/plain": [
       "<Figure size 432x288 with 1 Axes>"
      ]
     },
     "metadata": {},
     "output_type": "display_data"
    }
   ],
   "source": [
    "g = sns.histplot(((gh_pvalues - ben_pvalues).T / np.std((gh_pvalues - ben_pvalues).T)),\n",
    "             element=\"step\", fill=False, cumulative=True, stat=\"density\", common_norm=False,\n",
    "             bins = 50)\n",
    "g.set(xlabel='Z', ylabel='Power', title='Gauss-Hermite')"
   ]
  },
  {
   "cell_type": "code",
   "execution_count": 942,
   "metadata": {},
   "outputs": [],
   "source": [
    "r_power = (r_pvalues - ben_pvalues).T / np.std((r_pvalues - ben_pvalues).T)\n",
    "r_power['method'] = 'Centralized'\n",
    "la_power = (la_pvalues - ben_pvalues).T / np.std((la_pvalues - ben_pvalues).T)\n",
    "la_power['method'] = 'Laplace'\n",
    "gh_power = (gh_pvalues - ben_pvalues).T / np.std((gh_pvalues - ben_pvalues).T)\n",
    "gh_power['method'] = 'Gauss-Hermite'"
   ]
  },
  {
   "cell_type": "code",
   "execution_count": 944,
   "metadata": {},
   "outputs": [
    {
     "data": {
      "text/html": [
       "<div>\n",
       "<style scoped>\n",
       "    .dataframe tbody tr th:only-of-type {\n",
       "        vertical-align: middle;\n",
       "    }\n",
       "\n",
       "    .dataframe tbody tr th {\n",
       "        vertical-align: top;\n",
       "    }\n",
       "\n",
       "    .dataframe thead th {\n",
       "        text-align: right;\n",
       "    }\n",
       "</style>\n",
       "<table border=\"1\" class=\"dataframe\">\n",
       "  <thead>\n",
       "    <tr style=\"text-align: right;\">\n",
       "      <th></th>\n",
       "      <th>X1</th>\n",
       "      <th>X2</th>\n",
       "      <th>X3</th>\n",
       "      <th>X4</th>\n",
       "      <th>X5</th>\n",
       "      <th>X6</th>\n",
       "      <th>X7</th>\n",
       "      <th>X8</th>\n",
       "      <th>X9</th>\n",
       "      <th>X10</th>\n",
       "      <th>method</th>\n",
       "    </tr>\n",
       "  </thead>\n",
       "  <tbody>\n",
       "    <tr>\n",
       "      <th>Setting_1_1.csv</th>\n",
       "      <td>1.614537e-01</td>\n",
       "      <td>2.061885e+00</td>\n",
       "      <td>4.629996e-03</td>\n",
       "      <td>4.684501e-01</td>\n",
       "      <td>7.355637e-02</td>\n",
       "      <td>1.114482e+00</td>\n",
       "      <td>1.666619e-02</td>\n",
       "      <td>1.626378e+00</td>\n",
       "      <td>3.305435e+00</td>\n",
       "      <td>1.877544e-02</td>\n",
       "      <td>Centralized</td>\n",
       "    </tr>\n",
       "    <tr>\n",
       "      <th>Setting_1_10.csv</th>\n",
       "      <td>3.912187e-13</td>\n",
       "      <td>2.944408e-01</td>\n",
       "      <td>3.241372e+00</td>\n",
       "      <td>1.528901e-01</td>\n",
       "      <td>7.449621e-02</td>\n",
       "      <td>4.494541e-01</td>\n",
       "      <td>2.639706e-05</td>\n",
       "      <td>1.828881e+00</td>\n",
       "      <td>1.586322e-02</td>\n",
       "      <td>3.739344e-05</td>\n",
       "      <td>Centralized</td>\n",
       "    </tr>\n",
       "    <tr>\n",
       "      <th>Setting_1_11.csv</th>\n",
       "      <td>3.367845e+00</td>\n",
       "      <td>9.624801e-01</td>\n",
       "      <td>1.711962e+00</td>\n",
       "      <td>1.115987e+00</td>\n",
       "      <td>4.236205e-01</td>\n",
       "      <td>1.478938e+00</td>\n",
       "      <td>4.343209e-07</td>\n",
       "      <td>4.649850e-01</td>\n",
       "      <td>1.799986e+00</td>\n",
       "      <td>7.146051e-02</td>\n",
       "      <td>Centralized</td>\n",
       "    </tr>\n",
       "    <tr>\n",
       "      <th>Setting_1_12.csv</th>\n",
       "      <td>9.951582e-21</td>\n",
       "      <td>3.287836e+00</td>\n",
       "      <td>3.422867e-02</td>\n",
       "      <td>6.993929e-01</td>\n",
       "      <td>2.783873e-02</td>\n",
       "      <td>5.252799e-02</td>\n",
       "      <td>2.508347e-04</td>\n",
       "      <td>2.703684e+00</td>\n",
       "      <td>2.634948e+00</td>\n",
       "      <td>5.229109e-01</td>\n",
       "      <td>Centralized</td>\n",
       "    </tr>\n",
       "    <tr>\n",
       "      <th>Setting_1_13.csv</th>\n",
       "      <td>2.951018e-08</td>\n",
       "      <td>1.737672e+00</td>\n",
       "      <td>7.488106e-01</td>\n",
       "      <td>1.798828e+00</td>\n",
       "      <td>1.697550e-01</td>\n",
       "      <td>1.597936e-03</td>\n",
       "      <td>2.540737e-09</td>\n",
       "      <td>8.129431e-01</td>\n",
       "      <td>2.280544e+00</td>\n",
       "      <td>8.433395e-04</td>\n",
       "      <td>Centralized</td>\n",
       "    </tr>\n",
       "    <tr>\n",
       "      <th>...</th>\n",
       "      <td>...</td>\n",
       "      <td>...</td>\n",
       "      <td>...</td>\n",
       "      <td>...</td>\n",
       "      <td>...</td>\n",
       "      <td>...</td>\n",
       "      <td>...</td>\n",
       "      <td>...</td>\n",
       "      <td>...</td>\n",
       "      <td>...</td>\n",
       "      <td>...</td>\n",
       "    </tr>\n",
       "    <tr>\n",
       "      <th>Setting_8_10.csv</th>\n",
       "      <td>5.306792e-03</td>\n",
       "      <td>2.474514e+00</td>\n",
       "      <td>1.135340e+00</td>\n",
       "      <td>9.743204e-01</td>\n",
       "      <td>2.482603e+00</td>\n",
       "      <td>1.047667e-01</td>\n",
       "      <td>2.242074e-02</td>\n",
       "      <td>1.746898e+00</td>\n",
       "      <td>2.095406e+00</td>\n",
       "      <td>1.825677e-01</td>\n",
       "      <td>Gauss-Hermite</td>\n",
       "    </tr>\n",
       "    <tr>\n",
       "      <th>Setting_1_17.csv</th>\n",
       "      <td>4.350855e-02</td>\n",
       "      <td>2.711921e+00</td>\n",
       "      <td>3.224016e-03</td>\n",
       "      <td>8.543983e-04</td>\n",
       "      <td>5.228657e-01</td>\n",
       "      <td>7.086822e-04</td>\n",
       "      <td>7.364560e-04</td>\n",
       "      <td>1.874214e+00</td>\n",
       "      <td>5.627547e-01</td>\n",
       "      <td>4.183276e-04</td>\n",
       "      <td>Gauss-Hermite</td>\n",
       "    </tr>\n",
       "    <tr>\n",
       "      <th>Setting_1_16.csv</th>\n",
       "      <td>2.539709e+00</td>\n",
       "      <td>1.752597e+00</td>\n",
       "      <td>1.584705e-02</td>\n",
       "      <td>5.786217e-03</td>\n",
       "      <td>4.506333e-03</td>\n",
       "      <td>8.226327e-04</td>\n",
       "      <td>5.742867e-05</td>\n",
       "      <td>6.234995e-04</td>\n",
       "      <td>2.359550e-02</td>\n",
       "      <td>2.520551e-05</td>\n",
       "      <td>Gauss-Hermite</td>\n",
       "    </tr>\n",
       "    <tr>\n",
       "      <th>Setting_7_14.csv</th>\n",
       "      <td>1.826853e-05</td>\n",
       "      <td>2.657824e+00</td>\n",
       "      <td>3.019210e+00</td>\n",
       "      <td>3.337915e-01</td>\n",
       "      <td>1.248716e+00</td>\n",
       "      <td>5.520857e-01</td>\n",
       "      <td>4.257725e-02</td>\n",
       "      <td>2.262212e+00</td>\n",
       "      <td>2.172546e+00</td>\n",
       "      <td>9.473852e-01</td>\n",
       "      <td>Gauss-Hermite</td>\n",
       "    </tr>\n",
       "    <tr>\n",
       "      <th>Setting_3_3.csv</th>\n",
       "      <td>1.360378e-07</td>\n",
       "      <td>-2.347573e-29</td>\n",
       "      <td>5.229129e-42</td>\n",
       "      <td>1.796882e-19</td>\n",
       "      <td>-9.099038e-79</td>\n",
       "      <td>8.202365e-74</td>\n",
       "      <td>1.474352e-91</td>\n",
       "      <td>1.459538e-12</td>\n",
       "      <td>5.543966e-12</td>\n",
       "      <td>-2.290071e-101</td>\n",
       "      <td>Gauss-Hermite</td>\n",
       "    </tr>\n",
       "  </tbody>\n",
       "</table>\n",
       "<p>474 rows × 11 columns</p>\n",
       "</div>"
      ],
      "text/plain": [
       "                            X1            X2            X3            X4  \\\n",
       "Setting_1_1.csv   1.614537e-01  2.061885e+00  4.629996e-03  4.684501e-01   \n",
       "Setting_1_10.csv  3.912187e-13  2.944408e-01  3.241372e+00  1.528901e-01   \n",
       "Setting_1_11.csv  3.367845e+00  9.624801e-01  1.711962e+00  1.115987e+00   \n",
       "Setting_1_12.csv  9.951582e-21  3.287836e+00  3.422867e-02  6.993929e-01   \n",
       "Setting_1_13.csv  2.951018e-08  1.737672e+00  7.488106e-01  1.798828e+00   \n",
       "...                        ...           ...           ...           ...   \n",
       "Setting_8_10.csv  5.306792e-03  2.474514e+00  1.135340e+00  9.743204e-01   \n",
       "Setting_1_17.csv  4.350855e-02  2.711921e+00  3.224016e-03  8.543983e-04   \n",
       "Setting_1_16.csv  2.539709e+00  1.752597e+00  1.584705e-02  5.786217e-03   \n",
       "Setting_7_14.csv  1.826853e-05  2.657824e+00  3.019210e+00  3.337915e-01   \n",
       "Setting_3_3.csv   1.360378e-07 -2.347573e-29  5.229129e-42  1.796882e-19   \n",
       "\n",
       "                            X5            X6            X7            X8  \\\n",
       "Setting_1_1.csv   7.355637e-02  1.114482e+00  1.666619e-02  1.626378e+00   \n",
       "Setting_1_10.csv  7.449621e-02  4.494541e-01  2.639706e-05  1.828881e+00   \n",
       "Setting_1_11.csv  4.236205e-01  1.478938e+00  4.343209e-07  4.649850e-01   \n",
       "Setting_1_12.csv  2.783873e-02  5.252799e-02  2.508347e-04  2.703684e+00   \n",
       "Setting_1_13.csv  1.697550e-01  1.597936e-03  2.540737e-09  8.129431e-01   \n",
       "...                        ...           ...           ...           ...   \n",
       "Setting_8_10.csv  2.482603e+00  1.047667e-01  2.242074e-02  1.746898e+00   \n",
       "Setting_1_17.csv  5.228657e-01  7.086822e-04  7.364560e-04  1.874214e+00   \n",
       "Setting_1_16.csv  4.506333e-03  8.226327e-04  5.742867e-05  6.234995e-04   \n",
       "Setting_7_14.csv  1.248716e+00  5.520857e-01  4.257725e-02  2.262212e+00   \n",
       "Setting_3_3.csv  -9.099038e-79  8.202365e-74  1.474352e-91  1.459538e-12   \n",
       "\n",
       "                            X9            X10         method  \n",
       "Setting_1_1.csv   3.305435e+00   1.877544e-02    Centralized  \n",
       "Setting_1_10.csv  1.586322e-02   3.739344e-05    Centralized  \n",
       "Setting_1_11.csv  1.799986e+00   7.146051e-02    Centralized  \n",
       "Setting_1_12.csv  2.634948e+00   5.229109e-01    Centralized  \n",
       "Setting_1_13.csv  2.280544e+00   8.433395e-04    Centralized  \n",
       "...                        ...            ...            ...  \n",
       "Setting_8_10.csv  2.095406e+00   1.825677e-01  Gauss-Hermite  \n",
       "Setting_1_17.csv  5.627547e-01   4.183276e-04  Gauss-Hermite  \n",
       "Setting_1_16.csv  2.359550e-02   2.520551e-05  Gauss-Hermite  \n",
       "Setting_7_14.csv  2.172546e+00   9.473852e-01  Gauss-Hermite  \n",
       "Setting_3_3.csv   5.543966e-12 -2.290071e-101  Gauss-Hermite  \n",
       "\n",
       "[474 rows x 11 columns]"
      ]
     },
     "execution_count": 944,
     "metadata": {},
     "output_type": "execute_result"
    }
   ],
   "source": [
    "power = pd.concat([r_power, la_power, gh_power])\n",
    "power"
   ]
  },
  {
   "cell_type": "code",
   "execution_count": null,
   "metadata": {},
   "outputs": [],
   "source": []
  },
  {
   "cell_type": "code",
   "execution_count": null,
   "metadata": {},
   "outputs": [],
   "source": []
  },
  {
   "cell_type": "code",
   "execution_count": null,
   "metadata": {},
   "outputs": [],
   "source": []
  },
  {
   "cell_type": "code",
   "execution_count": null,
   "metadata": {},
   "outputs": [],
   "source": []
  },
  {
   "cell_type": "code",
   "execution_count": null,
   "metadata": {},
   "outputs": [],
   "source": []
  },
  {
   "cell_type": "code",
   "execution_count": null,
   "metadata": {},
   "outputs": [],
   "source": []
  },
  {
   "cell_type": "code",
   "execution_count": null,
   "metadata": {},
   "outputs": [],
   "source": []
  },
  {
   "cell_type": "code",
   "execution_count": null,
   "metadata": {},
   "outputs": [],
   "source": []
  },
  {
   "cell_type": "code",
   "execution_count": null,
   "metadata": {},
   "outputs": [],
   "source": []
  },
  {
   "cell_type": "code",
   "execution_count": null,
   "metadata": {},
   "outputs": [],
   "source": []
  },
  {
   "cell_type": "code",
   "execution_count": null,
   "metadata": {},
   "outputs": [],
   "source": []
  }
 ],
 "metadata": {
  "kernelspec": {
   "display_name": "Python 3",
   "language": "python",
   "name": "python3"
  },
  "language_info": {
   "codemirror_mode": {
    "name": "ipython",
    "version": 3
   },
   "file_extension": ".py",
   "mimetype": "text/x-python",
   "name": "python",
   "nbconvert_exporter": "python",
   "pygments_lexer": "ipython3",
   "version": "3.8.5"
  }
 },
 "nbformat": 4,
 "nbformat_minor": 4
}
