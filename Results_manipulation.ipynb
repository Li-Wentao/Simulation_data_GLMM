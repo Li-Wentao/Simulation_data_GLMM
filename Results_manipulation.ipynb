{
 "cells": [
  {
   "cell_type": "code",
   "execution_count": 157,
   "metadata": {},
   "outputs": [],
   "source": [
    "import pandas as pd\n",
    "import numpy as np\n",
    "import glob\n",
    "import matplotlib.pyplot as plt"
   ]
  },
  {
   "cell_type": "code",
   "execution_count": 8,
   "metadata": {},
   "outputs": [
    {
     "data": {
      "text/plain": [
       "'/Users/wli17/Documents/GLMM/Simulation_data_GLMM'"
      ]
     },
     "execution_count": 8,
     "metadata": {},
     "output_type": "execute_result"
    }
   ],
   "source": [
    "pwd"
   ]
  },
  {
   "cell_type": "code",
   "execution_count": 182,
   "metadata": {},
   "outputs": [],
   "source": [
    "LA_files_dirs = glob.glob('Result_LA/*.csv')\n",
    "GH_files_dirs = glob.glob('Result_GH/*.csv')\n",
    "R_files_dirs = glob.glob('Result_R/*.csv')"
   ]
  },
  {
   "cell_type": "code",
   "execution_count": 21,
   "metadata": {},
   "outputs": [],
   "source": [
    "cols = ['Truth', 'Coef', 'Std.Err', 'z', 'P-value', '[0.025', '0.975]']\n",
    "for d in LA_files_dirs:\n",
    "    pd.read_csv(d, index_col=0)[cols].to_csv(d, header = True)\n",
    "for d in GH_files_dirs:\n",
    "    pd.read_csv(d, index_col=0)[cols].to_csv(d, header = True)"
   ]
  },
  {
   "cell_type": "code",
   "execution_count": 183,
   "metadata": {},
   "outputs": [],
   "source": [
    "LA_result = []\n",
    "GH_result = []\n",
    "R_result = []\n",
    "for d in LA_files_dirs:\n",
    "    LA_result.append(d.split('/')[1])\n",
    "for d in GH_files_dirs:\n",
    "    GH_result.append(d.split('/')[1])\n",
    "for d in R_files_dirs:\n",
    "    R_result.append(d.split('/')[1])"
   ]
  },
  {
   "cell_type": "code",
   "execution_count": 41,
   "metadata": {},
   "outputs": [],
   "source": [
    "import fnmatch"
   ]
  },
  {
   "cell_type": "code",
   "execution_count": 188,
   "metadata": {},
   "outputs": [
    {
     "name": "stdout",
     "output_type": "stream",
     "text": [
      "20 []\n"
     ]
    }
   ],
   "source": [
    "filtered = fnmatch.filter(GH_result, 'Setting_4*')\n",
    "success = []\n",
    "s = [str(i+1) for i in range(20)]\n",
    "for l in filtered:\n",
    "    success.append(l[10:].split('.')[0])\n",
    "failed = set(s).difference(set(success))\n",
    "print(len(failed), success)"
   ]
  },
  {
   "cell_type": "code",
   "execution_count": 98,
   "metadata": {},
   "outputs": [],
   "source": [
    "df = (pd.read_csv('Result_R/' + LA_result[0], index_col=0) - pd.read_csv('Result_LA/' + LA_result[0], index_col=0))['Coef']"
   ]
  },
  {
   "cell_type": "code",
   "execution_count": 95,
   "metadata": {},
   "outputs": [
    {
     "data": {
      "text/html": [
       "<div>\n",
       "<style scoped>\n",
       "    .dataframe tbody tr th:only-of-type {\n",
       "        vertical-align: middle;\n",
       "    }\n",
       "\n",
       "    .dataframe tbody tr th {\n",
       "        vertical-align: top;\n",
       "    }\n",
       "\n",
       "    .dataframe thead th {\n",
       "        text-align: right;\n",
       "    }\n",
       "</style>\n",
       "<table border=\"1\" class=\"dataframe\">\n",
       "  <thead>\n",
       "    <tr style=\"text-align: right;\">\n",
       "      <th></th>\n",
       "      <th>Truth</th>\n",
       "      <th>Coef</th>\n",
       "      <th>Std.Err</th>\n",
       "      <th>z</th>\n",
       "      <th>P-value</th>\n",
       "      <th>[0.025</th>\n",
       "      <th>0.975]</th>\n",
       "    </tr>\n",
       "  </thead>\n",
       "  <tbody>\n",
       "    <tr>\n",
       "      <th>X1</th>\n",
       "      <td>-1.50</td>\n",
       "      <td>-1.084646</td>\n",
       "      <td>0.220181</td>\n",
       "      <td>-4.926155</td>\n",
       "      <td>8.386365e-07</td>\n",
       "      <td>-1.516193</td>\n",
       "      <td>-0.653099</td>\n",
       "    </tr>\n",
       "    <tr>\n",
       "      <th>X2</th>\n",
       "      <td>0.10</td>\n",
       "      <td>-0.081002</td>\n",
       "      <td>0.512997</td>\n",
       "      <td>-0.157899</td>\n",
       "      <td>8.745364e-01</td>\n",
       "      <td>-1.086458</td>\n",
       "      <td>0.924454</td>\n",
       "    </tr>\n",
       "    <tr>\n",
       "      <th>X3</th>\n",
       "      <td>-0.50</td>\n",
       "      <td>-0.503023</td>\n",
       "      <td>0.339758</td>\n",
       "      <td>-1.480532</td>\n",
       "      <td>1.387314e-01</td>\n",
       "      <td>-1.168937</td>\n",
       "      <td>0.162891</td>\n",
       "    </tr>\n",
       "    <tr>\n",
       "      <th>X4</th>\n",
       "      <td>-0.30</td>\n",
       "      <td>0.020968</td>\n",
       "      <td>0.283014</td>\n",
       "      <td>0.074088</td>\n",
       "      <td>9.409403e-01</td>\n",
       "      <td>-0.533730</td>\n",
       "      <td>0.575666</td>\n",
       "    </tr>\n",
       "    <tr>\n",
       "      <th>X5</th>\n",
       "      <td>0.40</td>\n",
       "      <td>0.672402</td>\n",
       "      <td>0.288204</td>\n",
       "      <td>2.333082</td>\n",
       "      <td>1.964384e-02</td>\n",
       "      <td>0.107534</td>\n",
       "      <td>1.237271</td>\n",
       "    </tr>\n",
       "    <tr>\n",
       "      <th>X6</th>\n",
       "      <td>-0.20</td>\n",
       "      <td>-0.118359</td>\n",
       "      <td>0.138840</td>\n",
       "      <td>-0.852481</td>\n",
       "      <td>3.939469e-01</td>\n",
       "      <td>-0.390481</td>\n",
       "      <td>0.153763</td>\n",
       "    </tr>\n",
       "    <tr>\n",
       "      <th>X7</th>\n",
       "      <td>-0.25</td>\n",
       "      <td>-0.200636</td>\n",
       "      <td>0.099388</td>\n",
       "      <td>-2.018715</td>\n",
       "      <td>4.351690e-02</td>\n",
       "      <td>-0.395433</td>\n",
       "      <td>-0.005839</td>\n",
       "    </tr>\n",
       "    <tr>\n",
       "      <th>X8</th>\n",
       "      <td>0.35</td>\n",
       "      <td>-0.360902</td>\n",
       "      <td>0.484789</td>\n",
       "      <td>-0.744451</td>\n",
       "      <td>4.566035e-01</td>\n",
       "      <td>-1.311070</td>\n",
       "      <td>0.589267</td>\n",
       "    </tr>\n",
       "    <tr>\n",
       "      <th>X9</th>\n",
       "      <td>-0.10</td>\n",
       "      <td>-0.268979</td>\n",
       "      <td>0.358411</td>\n",
       "      <td>-0.750476</td>\n",
       "      <td>4.529681e-01</td>\n",
       "      <td>-0.971453</td>\n",
       "      <td>0.433494</td>\n",
       "    </tr>\n",
       "    <tr>\n",
       "      <th>X10</th>\n",
       "      <td>0.50</td>\n",
       "      <td>0.215124</td>\n",
       "      <td>0.244190</td>\n",
       "      <td>0.880969</td>\n",
       "      <td>3.783344e-01</td>\n",
       "      <td>-0.263480</td>\n",
       "      <td>0.693728</td>\n",
       "    </tr>\n",
       "  </tbody>\n",
       "</table>\n",
       "</div>"
      ],
      "text/plain": [
       "     Truth      Coef   Std.Err         z       P-value    [0.025    0.975]\n",
       "X1   -1.50 -1.084646  0.220181 -4.926155  8.386365e-07 -1.516193 -0.653099\n",
       "X2    0.10 -0.081002  0.512997 -0.157899  8.745364e-01 -1.086458  0.924454\n",
       "X3   -0.50 -0.503023  0.339758 -1.480532  1.387314e-01 -1.168937  0.162891\n",
       "X4   -0.30  0.020968  0.283014  0.074088  9.409403e-01 -0.533730  0.575666\n",
       "X5    0.40  0.672402  0.288204  2.333082  1.964384e-02  0.107534  1.237271\n",
       "X6   -0.20 -0.118359  0.138840 -0.852481  3.939469e-01 -0.390481  0.153763\n",
       "X7   -0.25 -0.200636  0.099388 -2.018715  4.351690e-02 -0.395433 -0.005839\n",
       "X8    0.35 -0.360902  0.484789 -0.744451  4.566035e-01 -1.311070  0.589267\n",
       "X9   -0.10 -0.268979  0.358411 -0.750476  4.529681e-01 -0.971453  0.433494\n",
       "X10   0.50  0.215124  0.244190  0.880969  3.783344e-01 -0.263480  0.693728"
      ]
     },
     "execution_count": 95,
     "metadata": {},
     "output_type": "execute_result"
    }
   ],
   "source": [
    "pd.read_csv('Result_LA/' + LA_result[0], index_col=0)"
   ]
  },
  {
   "cell_type": "code",
   "execution_count": 202,
   "metadata": {},
   "outputs": [
    {
     "data": {
      "image/png": "[encoded data removed]",
      "text/plain": [
       "<Figure size 432x288 with 1 Axes>"
      ]
     },
     "metadata": {
      "needs_background": "light"
     },
     "output_type": "display_data"
    }
   ],
   "source": [
    "R_coef = pd.DataFrame()\n",
    "for f in R_result:\n",
    "    df = pd.read_csv('Result_R/' + f, index_col=0)['Coef'] - [-1.5,0.1,-0.5,-0.3,0.4,-0.2,-0.25,0.35,-0.1,0.5]\n",
    "    R_coef = pd.concat([R_coef, df], axis = 1)\n",
    "R_coef = R_coef.dropna(axis = 1)\n",
    "plt.ylim(-2, 2)\n",
    "box = plt.boxplot(R_coef.T)\n",
    "plt.xlabel('X')\n",
    "plt.ylabel('Difference from truth')\n",
    "plt.show()"
   ]
  },
  {
   "cell_type": "code",
   "execution_count": 199,
   "metadata": {},
   "outputs": [
    {
     "data": {
      "image/png": "[encoded data removed]",
      "text/plain": [
       "<Figure size 432x288 with 1 Axes>"
      ]
     },
     "metadata": {
      "needs_background": "light"
     },
     "output_type": "display_data"
    }
   ],
   "source": [
    "R_coef = pd.DataFrame()\n",
    "for f in R_result:\n",
    "    df = pd.read_csv('Result_R/' + f, index_col=0)['P-value']\n",
    "    R_coef = pd.concat([R_coef, df], axis = 1)\n",
    "R_coef = R_coef.dropna(axis = 1)\n",
    "# plt.ylim(0, 1)\n",
    "box = plt.boxplot(R_coef.T)\n",
    "plt.xlabel('X')\n",
    "plt.ylabel('P-value')\n",
    "plt.show()"
   ]
  },
  {
   "cell_type": "code",
   "execution_count": 210,
   "metadata": {
    "scrolled": true
   },
   "outputs": [
    {
     "data": {
      "image/png": "[encoded data removed]",
      "text/plain": [
       "<Figure size 432x288 with 1 Axes>"
      ]
     },
     "metadata": {
      "needs_background": "light"
     },
     "output_type": "display_data"
    }
   ],
   "source": [
    "LA_coef = pd.DataFrame()\n",
    "for f in LA_result:\n",
    "    df = pd.read_csv('Result_LA/' + f, index_col=0)['Coef'] - [-1.5,0.1,-0.5,-0.3,0.4,-0.2,-0.25,0.35,-0.1,0.5]\n",
    "    LA_coef = pd.concat([LA_coef, df], axis = 1)\n",
    "LA_coef = LA_coef.dropna(axis = 1)\n",
    "plt.ylim(-2, 2)\n",
    "box = plt.boxplot(LA_coef.T)\n",
    "plt.xlabel('X')\n",
    "plt.ylabel('Difference from truth')\n",
    "plt.show()"
   ]
  },
  {
   "cell_type": "code",
   "execution_count": 211,
   "metadata": {},
   "outputs": [
    {
     "data": {
      "image/png": "[encoded data removed]",
      "text/plain": [
       "<Figure size 432x288 with 1 Axes>"
      ]
     },
     "metadata": {
      "needs_background": "light"
     },
     "output_type": "display_data"
    }
   ],
   "source": [
    "coef_dif = pd.DataFrame()\n",
    "for f in set(LA_result).intersection(set(R_result)):\n",
    "    df = (pd.read_csv('Result_R/' + f, index_col=0) - pd.read_csv('Result_LA/' + f, index_col=0))['Coef']\n",
    "    coef_dif = pd.concat([coef_dif, df], axis = 1)\n",
    "coef_dif = coef_dif.dropna(axis = 1)\n",
    "plt.ylim(-0.5, 0.5)\n",
    "plt.boxplot(coef_dif.T)\n",
    "plt.xlabel('X')\n",
    "plt.ylabel('Difference from Benchmark')\n",
    "plt.show()"
   ]
  },
  {
   "cell_type": "code",
   "execution_count": 212,
   "metadata": {},
   "outputs": [
    {
     "data": {
      "image/png": "[encoded data removed]",
      "text/plain": [
       "<Figure size 432x288 with 1 Axes>"
      ]
     },
     "metadata": {
      "needs_background": "light"
     },
     "output_type": "display_data"
    }
   ],
   "source": [
    "coef_dif = pd.DataFrame()\n",
    "for f in set(LA_result).intersection(set(R_result)):\n",
    "    df = (pd.read_csv('Result_R/' + f, index_col=0) - pd.read_csv('Result_LA/' + f, index_col=0))['P-value']\n",
    "    coef_dif = pd.concat([coef_dif, df], axis = 1)\n",
    "coef_dif = coef_dif.dropna(axis = 1)\n",
    "# plt.ylim(-0.5, 0.5)\n",
    "plt.boxplot(coef_dif.T)\n",
    "plt.xlabel('X')\n",
    "plt.ylabel('Difference of P-values')\n",
    "plt.show()"
   ]
  },
  {
   "cell_type": "code",
   "execution_count": null,
   "metadata": {},
   "outputs": [],
   "source": []
  },
  {
   "cell_type": "code",
   "execution_count": null,
   "metadata": {},
   "outputs": [],
   "source": []
  },
  {
   "cell_type": "code",
   "execution_count": 213,
   "metadata": {
    "scrolled": true
   },
   "outputs": [
    {
     "data": {
      "image/png": "[encoded data removed]",
      "text/plain": [
       "<Figure size 432x288 with 1 Axes>"
      ]
     },
     "metadata": {
      "needs_background": "light"
     },
     "output_type": "display_data"
    }
   ],
   "source": [
    "GH_coef = pd.DataFrame()\n",
    "for f in GH_result:\n",
    "    df = pd.read_csv('Result_GH/' + f, index_col=0)['Coef'] - [-1.5,0.1,-0.5,-0.3,0.4,-0.2,-0.25,0.35,-0.1,0.5]\n",
    "    GH_coef = pd.concat([GH_coef, df], axis = 1)\n",
    "GH_coef = GH_coef.dropna(axis = 1)\n",
    "plt.ylim(-2, 2)\n",
    "box = plt.boxplot(GH_coef.T)\n",
    "plt.xlabel('X')\n",
    "plt.ylabel('Difference from truth')\n",
    "plt.show()"
   ]
  },
  {
   "cell_type": "code",
   "execution_count": 214,
   "metadata": {},
   "outputs": [
    {
     "data": {
      "image/png": "[encoded data removed]",
      "text/plain": [
       "<Figure size 432x288 with 1 Axes>"
      ]
     },
     "metadata": {
      "needs_background": "light"
     },
     "output_type": "display_data"
    }
   ],
   "source": [
    "coef_dif = pd.DataFrame()\n",
    "for f in set(GH_result).intersection(set(R_result)):\n",
    "    df = (pd.read_csv('Result_R/' + f, index_col=0) - pd.read_csv('Result_GH/' + f, index_col=0))['Coef']\n",
    "    coef_dif = pd.concat([coef_dif, df], axis = 1)\n",
    "coef_dif = coef_dif.dropna(axis = 1)\n",
    "plt.ylim(-3, 1)\n",
    "plt.boxplot(coef_dif.T)\n",
    "plt.xlabel('X')\n",
    "plt.ylabel('Difference from Benchmark')\n",
    "plt.show()"
   ]
  },
  {
   "cell_type": "code",
   "execution_count": 215,
   "metadata": {},
   "outputs": [
    {
     "data": {
      "image/png": "[encoded data removed]",
      "text/plain": [
       "<Figure size 432x288 with 1 Axes>"
      ]
     },
     "metadata": {
      "needs_background": "light"
     },
     "output_type": "display_data"
    }
   ],
   "source": [
    "coef_dif = pd.DataFrame()\n",
    "for f in set(GH_result).intersection(set(R_result)):\n",
    "    df = (pd.read_csv('Result_R/' + f, index_col=0) - pd.read_csv('Result_GH/' + f, index_col=0))['P-value']\n",
    "    coef_dif = pd.concat([coef_dif, df], axis = 1)\n",
    "coef_dif = coef_dif.dropna(axis = 1)\n",
    "# plt.ylim(-3, 1)\n",
    "plt.boxplot(coef_dif.T)\n",
    "plt.xlabel('X')\n",
    "plt.ylabel('Difference of P-values')\n",
    "plt.show()"
   ]
  },
  {
   "cell_type": "code",
   "execution_count": 216,
   "metadata": {},
   "outputs": [
    {
     "data": {
      "text/html": [
       "<div>\n",
       "<style scoped>\n",
       "    .dataframe tbody tr th:only-of-type {\n",
       "        vertical-align: middle;\n",
       "    }\n",
       "\n",
       "    .dataframe tbody tr th {\n",
       "        vertical-align: top;\n",
       "    }\n",
       "\n",
       "    .dataframe thead th {\n",
       "        text-align: right;\n",
       "    }\n",
       "</style>\n",
       "<table border=\"1\" class=\"dataframe\">\n",
       "  <thead>\n",
       "    <tr style=\"text-align: right;\">\n",
       "      <th></th>\n",
       "      <th>P-value</th>\n",
       "      <th>P-value</th>\n",
       "      <th>P-value</th>\n",
       "      <th>P-value</th>\n",
       "      <th>P-value</th>\n",
       "      <th>P-value</th>\n",
       "      <th>P-value</th>\n",
       "      <th>P-value</th>\n",
       "      <th>P-value</th>\n",
       "      <th>P-value</th>\n",
       "      <th>...</th>\n",
       "      <th>P-value</th>\n",
       "      <th>P-value</th>\n",
       "      <th>P-value</th>\n",
       "      <th>P-value</th>\n",
       "      <th>P-value</th>\n",
       "      <th>P-value</th>\n",
       "      <th>P-value</th>\n",
       "      <th>P-value</th>\n",
       "      <th>P-value</th>\n",
       "      <th>P-value</th>\n",
       "    </tr>\n",
       "  </thead>\n",
       "  <tbody>\n",
       "    <tr>\n",
       "      <th>X1</th>\n",
       "      <td>-0.334175</td>\n",
       "      <td>0.015946</td>\n",
       "      <td>-0.027460</td>\n",
       "      <td>-0.934853</td>\n",
       "      <td>-2.107750e-03</td>\n",
       "      <td>-5.240222e-07</td>\n",
       "      <td>5.792805e-09</td>\n",
       "      <td>0.177177</td>\n",
       "      <td>0.134522</td>\n",
       "      <td>-0.237780</td>\n",
       "      <td>...</td>\n",
       "      <td>0.049225</td>\n",
       "      <td>-0.269787</td>\n",
       "      <td>1.716385e-02</td>\n",
       "      <td>0.155625</td>\n",
       "      <td>-4.991058e-01</td>\n",
       "      <td>-1.482834e-01</td>\n",
       "      <td>-0.620278</td>\n",
       "      <td>0.046260</td>\n",
       "      <td>4.738899e-02</td>\n",
       "      <td>3.482969e-01</td>\n",
       "    </tr>\n",
       "    <tr>\n",
       "      <th>X2</th>\n",
       "      <td>0.003556</td>\n",
       "      <td>0.723805</td>\n",
       "      <td>-0.001505</td>\n",
       "      <td>0.116185</td>\n",
       "      <td>1.763852e-01</td>\n",
       "      <td>4.379334e-03</td>\n",
       "      <td>-4.800330e-01</td>\n",
       "      <td>0.010758</td>\n",
       "      <td>0.013552</td>\n",
       "      <td>0.064261</td>\n",
       "      <td>...</td>\n",
       "      <td>0.089841</td>\n",
       "      <td>0.064461</td>\n",
       "      <td>8.792448e-03</td>\n",
       "      <td>0.010903</td>\n",
       "      <td>6.071317e-03</td>\n",
       "      <td>3.200100e-02</td>\n",
       "      <td>0.055135</td>\n",
       "      <td>0.035746</td>\n",
       "      <td>1.655485e-02</td>\n",
       "      <td>9.224908e-01</td>\n",
       "    </tr>\n",
       "    <tr>\n",
       "      <th>X3</th>\n",
       "      <td>0.011822</td>\n",
       "      <td>0.016790</td>\n",
       "      <td>0.016673</td>\n",
       "      <td>0.066330</td>\n",
       "      <td>1.125585e-05</td>\n",
       "      <td>1.057318e-02</td>\n",
       "      <td>-5.565659e-01</td>\n",
       "      <td>0.003120</td>\n",
       "      <td>0.013571</td>\n",
       "      <td>0.014558</td>\n",
       "      <td>...</td>\n",
       "      <td>0.133450</td>\n",
       "      <td>0.067641</td>\n",
       "      <td>-1.051858e-02</td>\n",
       "      <td>0.118799</td>\n",
       "      <td>2.301705e-02</td>\n",
       "      <td>3.332123e-02</td>\n",
       "      <td>0.008001</td>\n",
       "      <td>0.000579</td>\n",
       "      <td>4.841797e-02</td>\n",
       "      <td>8.639531e-03</td>\n",
       "    </tr>\n",
       "    <tr>\n",
       "      <th>X4</th>\n",
       "      <td>0.092636</td>\n",
       "      <td>0.035360</td>\n",
       "      <td>0.029560</td>\n",
       "      <td>0.076290</td>\n",
       "      <td>3.577574e-04</td>\n",
       "      <td>1.318478e-02</td>\n",
       "      <td>4.679086e-01</td>\n",
       "      <td>0.000890</td>\n",
       "      <td>0.007319</td>\n",
       "      <td>0.007429</td>\n",
       "      <td>...</td>\n",
       "      <td>0.021461</td>\n",
       "      <td>0.019220</td>\n",
       "      <td>6.566526e-07</td>\n",
       "      <td>0.001282</td>\n",
       "      <td>2.726277e-03</td>\n",
       "      <td>2.088402e-02</td>\n",
       "      <td>0.036112</td>\n",
       "      <td>0.018039</td>\n",
       "      <td>1.886656e-02</td>\n",
       "      <td>1.827867e-02</td>\n",
       "    </tr>\n",
       "    <tr>\n",
       "      <th>X5</th>\n",
       "      <td>0.001158</td>\n",
       "      <td>0.001656</td>\n",
       "      <td>0.014734</td>\n",
       "      <td>0.001492</td>\n",
       "      <td>9.068984e-03</td>\n",
       "      <td>3.701709e-02</td>\n",
       "      <td>-2.273417e-01</td>\n",
       "      <td>0.049240</td>\n",
       "      <td>0.002348</td>\n",
       "      <td>0.009429</td>\n",
       "      <td>...</td>\n",
       "      <td>0.007620</td>\n",
       "      <td>0.019690</td>\n",
       "      <td>1.683285e-03</td>\n",
       "      <td>0.084928</td>\n",
       "      <td>1.062025e-02</td>\n",
       "      <td>1.671252e-02</td>\n",
       "      <td>0.028698</td>\n",
       "      <td>0.006019</td>\n",
       "      <td>1.127051e-02</td>\n",
       "      <td>1.463774e-01</td>\n",
       "    </tr>\n",
       "    <tr>\n",
       "      <th>X6</th>\n",
       "      <td>0.116824</td>\n",
       "      <td>0.000392</td>\n",
       "      <td>0.000690</td>\n",
       "      <td>0.162572</td>\n",
       "      <td>2.033902e-04</td>\n",
       "      <td>6.397002e-03</td>\n",
       "      <td>2.723122e-04</td>\n",
       "      <td>0.000921</td>\n",
       "      <td>0.014591</td>\n",
       "      <td>0.002609</td>\n",
       "      <td>...</td>\n",
       "      <td>0.122756</td>\n",
       "      <td>0.004571</td>\n",
       "      <td>1.911139e-02</td>\n",
       "      <td>0.098216</td>\n",
       "      <td>4.149987e-03</td>\n",
       "      <td>2.807101e-02</td>\n",
       "      <td>0.042223</td>\n",
       "      <td>0.016094</td>\n",
       "      <td>4.491859e-03</td>\n",
       "      <td>7.352527e-07</td>\n",
       "    </tr>\n",
       "    <tr>\n",
       "      <th>X7</th>\n",
       "      <td>0.002658</td>\n",
       "      <td>0.000275</td>\n",
       "      <td>0.000007</td>\n",
       "      <td>0.003007</td>\n",
       "      <td>2.461792e-17</td>\n",
       "      <td>2.063931e-06</td>\n",
       "      <td>-9.151712e-01</td>\n",
       "      <td>0.000605</td>\n",
       "      <td>0.000001</td>\n",
       "      <td>0.000165</td>\n",
       "      <td>...</td>\n",
       "      <td>0.000088</td>\n",
       "      <td>0.000417</td>\n",
       "      <td>4.253967e-04</td>\n",
       "      <td>0.000383</td>\n",
       "      <td>1.137378e-09</td>\n",
       "      <td>7.098342e-08</td>\n",
       "      <td>0.003695</td>\n",
       "      <td>0.000114</td>\n",
       "      <td>3.919990e-07</td>\n",
       "      <td>1.341957e-03</td>\n",
       "    </tr>\n",
       "    <tr>\n",
       "      <th>X8</th>\n",
       "      <td>0.012678</td>\n",
       "      <td>0.065825</td>\n",
       "      <td>0.028608</td>\n",
       "      <td>0.103337</td>\n",
       "      <td>1.657900e-02</td>\n",
       "      <td>1.376205e-03</td>\n",
       "      <td>2.469568e-01</td>\n",
       "      <td>0.024143</td>\n",
       "      <td>0.011515</td>\n",
       "      <td>0.002953</td>\n",
       "      <td>...</td>\n",
       "      <td>0.113047</td>\n",
       "      <td>0.005392</td>\n",
       "      <td>2.470823e-02</td>\n",
       "      <td>0.031843</td>\n",
       "      <td>1.349539e-03</td>\n",
       "      <td>1.811604e-02</td>\n",
       "      <td>0.045224</td>\n",
       "      <td>0.006000</td>\n",
       "      <td>1.177167e-02</td>\n",
       "      <td>5.666135e-01</td>\n",
       "    </tr>\n",
       "    <tr>\n",
       "      <th>X9</th>\n",
       "      <td>0.117434</td>\n",
       "      <td>0.184965</td>\n",
       "      <td>0.028997</td>\n",
       "      <td>0.004132</td>\n",
       "      <td>6.033576e-02</td>\n",
       "      <td>1.816735e-02</td>\n",
       "      <td>2.448572e-01</td>\n",
       "      <td>0.045814</td>\n",
       "      <td>0.005584</td>\n",
       "      <td>0.019692</td>\n",
       "      <td>...</td>\n",
       "      <td>0.058268</td>\n",
       "      <td>0.028669</td>\n",
       "      <td>2.448203e-02</td>\n",
       "      <td>0.085237</td>\n",
       "      <td>3.236138e-02</td>\n",
       "      <td>1.978204e-02</td>\n",
       "      <td>0.071763</td>\n",
       "      <td>0.007178</td>\n",
       "      <td>2.115033e-02</td>\n",
       "      <td>1.139568e-01</td>\n",
       "    </tr>\n",
       "    <tr>\n",
       "      <th>X10</th>\n",
       "      <td>0.003670</td>\n",
       "      <td>0.000009</td>\n",
       "      <td>0.000008</td>\n",
       "      <td>0.000725</td>\n",
       "      <td>9.269791e-17</td>\n",
       "      <td>9.081701e-03</td>\n",
       "      <td>-1.870186e-01</td>\n",
       "      <td>0.000681</td>\n",
       "      <td>0.000004</td>\n",
       "      <td>0.000455</td>\n",
       "      <td>...</td>\n",
       "      <td>0.000329</td>\n",
       "      <td>0.000160</td>\n",
       "      <td>3.507241e-05</td>\n",
       "      <td>0.000021</td>\n",
       "      <td>8.059193e-04</td>\n",
       "      <td>5.010714e-03</td>\n",
       "      <td>0.000475</td>\n",
       "      <td>0.000258</td>\n",
       "      <td>1.902221e-03</td>\n",
       "      <td>-8.103074e-01</td>\n",
       "    </tr>\n",
       "  </tbody>\n",
       "</table>\n",
       "<p>10 rows × 29 columns</p>\n",
       "</div>"
      ],
      "text/plain": [
       "      P-value   P-value   P-value   P-value       P-value       P-value  \\\n",
       "X1  -0.334175  0.015946 -0.027460 -0.934853 -2.107750e-03 -5.240222e-07   \n",
       "X2   0.003556  0.723805 -0.001505  0.116185  1.763852e-01  4.379334e-03   \n",
       "X3   0.011822  0.016790  0.016673  0.066330  1.125585e-05  1.057318e-02   \n",
       "X4   0.092636  0.035360  0.029560  0.076290  3.577574e-04  1.318478e-02   \n",
       "X5   0.001158  0.001656  0.014734  0.001492  9.068984e-03  3.701709e-02   \n",
       "X6   0.116824  0.000392  0.000690  0.162572  2.033902e-04  6.397002e-03   \n",
       "X7   0.002658  0.000275  0.000007  0.003007  2.461792e-17  2.063931e-06   \n",
       "X8   0.012678  0.065825  0.028608  0.103337  1.657900e-02  1.376205e-03   \n",
       "X9   0.117434  0.184965  0.028997  0.004132  6.033576e-02  1.816735e-02   \n",
       "X10  0.003670  0.000009  0.000008  0.000725  9.269791e-17  9.081701e-03   \n",
       "\n",
       "          P-value   P-value   P-value   P-value  ...   P-value   P-value  \\\n",
       "X1   5.792805e-09  0.177177  0.134522 -0.237780  ...  0.049225 -0.269787   \n",
       "X2  -4.800330e-01  0.010758  0.013552  0.064261  ...  0.089841  0.064461   \n",
       "X3  -5.565659e-01  0.003120  0.013571  0.014558  ...  0.133450  0.067641   \n",
       "X4   4.679086e-01  0.000890  0.007319  0.007429  ...  0.021461  0.019220   \n",
       "X5  -2.273417e-01  0.049240  0.002348  0.009429  ...  0.007620  0.019690   \n",
       "X6   2.723122e-04  0.000921  0.014591  0.002609  ...  0.122756  0.004571   \n",
       "X7  -9.151712e-01  0.000605  0.000001  0.000165  ...  0.000088  0.000417   \n",
       "X8   2.469568e-01  0.024143  0.011515  0.002953  ...  0.113047  0.005392   \n",
       "X9   2.448572e-01  0.045814  0.005584  0.019692  ...  0.058268  0.028669   \n",
       "X10 -1.870186e-01  0.000681  0.000004  0.000455  ...  0.000329  0.000160   \n",
       "\n",
       "          P-value   P-value       P-value       P-value   P-value   P-value  \\\n",
       "X1   1.716385e-02  0.155625 -4.991058e-01 -1.482834e-01 -0.620278  0.046260   \n",
       "X2   8.792448e-03  0.010903  6.071317e-03  3.200100e-02  0.055135  0.035746   \n",
       "X3  -1.051858e-02  0.118799  2.301705e-02  3.332123e-02  0.008001  0.000579   \n",
       "X4   6.566526e-07  0.001282  2.726277e-03  2.088402e-02  0.036112  0.018039   \n",
       "X5   1.683285e-03  0.084928  1.062025e-02  1.671252e-02  0.028698  0.006019   \n",
       "X6   1.911139e-02  0.098216  4.149987e-03  2.807101e-02  0.042223  0.016094   \n",
       "X7   4.253967e-04  0.000383  1.137378e-09  7.098342e-08  0.003695  0.000114   \n",
       "X8   2.470823e-02  0.031843  1.349539e-03  1.811604e-02  0.045224  0.006000   \n",
       "X9   2.448203e-02  0.085237  3.236138e-02  1.978204e-02  0.071763  0.007178   \n",
       "X10  3.507241e-05  0.000021  8.059193e-04  5.010714e-03  0.000475  0.000258   \n",
       "\n",
       "          P-value       P-value  \n",
       "X1   4.738899e-02  3.482969e-01  \n",
       "X2   1.655485e-02  9.224908e-01  \n",
       "X3   4.841797e-02  8.639531e-03  \n",
       "X4   1.886656e-02  1.827867e-02  \n",
       "X5   1.127051e-02  1.463774e-01  \n",
       "X6   4.491859e-03  7.352527e-07  \n",
       "X7   3.919990e-07  1.341957e-03  \n",
       "X8   1.177167e-02  5.666135e-01  \n",
       "X9   2.115033e-02  1.139568e-01  \n",
       "X10  1.902221e-03 -8.103074e-01  \n",
       "\n",
       "[10 rows x 29 columns]"
      ]
     },
     "execution_count": 216,
     "metadata": {},
     "output_type": "execute_result"
    }
   ],
   "source": [
    "coef_dif"
   ]
  },
  {
   "cell_type": "code",
   "execution_count": null,
   "metadata": {},
   "outputs": [],
   "source": []
  },
  {
   "cell_type": "code",
   "execution_count": null,
   "metadata": {},
   "outputs": [],
   "source": []
  }
 ],
 "metadata": {
  "kernelspec": {
   "display_name": "Python 3",
   "language": "python",
   "name": "python3"
  },
  "language_info": {
   "codemirror_mode": {
    "name": "ipython",
    "version": 3
   },
   "file_extension": ".py",
   "mimetype": "text/x-python",
   "name": "python",
   "nbconvert_exporter": "python",
   "pygments_lexer": "ipython3",
   "version": "3.8.5"
  }
 },
 "nbformat": 4,
 "nbformat_minor": 4
}
